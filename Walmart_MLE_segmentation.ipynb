{
  "nbformat": 4,
  "nbformat_minor": 0,
  "metadata": {
    "colab": {
      "provenance": []
    },
    "kernelspec": {
      "name": "python3",
      "display_name": "Python 3"
    },
    "language_info": {
      "name": "python"
    }
  },
  "cells": [
    {
      "cell_type": "code",
      "execution_count": 1,
      "metadata": {
        "colab": {
          "base_uri": "https://localhost:8080/"
        },
        "id": "kpJ57yEBn7NV",
        "outputId": "9bd792c9-2d18-4637-eb65-179173d7a4db"
      },
      "outputs": [
        {
          "output_type": "stream",
          "name": "stdout",
          "text": [
            "Drive already mounted at /content/drive; to attempt to forcibly remount, call drive.mount(\"/content/drive\", force_remount=True).\n"
          ]
        }
      ],
      "source": [
        "from google.colab import drive\n",
        "drive.mount('/content/drive')"
      ]
    },
    {
      "cell_type": "code",
      "source": [
        "\n",
        "import pandas as pd\n",
        "import numpy as np\n",
        "import matplotlib.pyplot as plt\n",
        "import scipy.stats as stats\n",
        "from sklearn.cluster import KMeans\n",
        "from sklearn import preprocessing\n",
        "from sklearn.preprocessing import StandardScaler\n",
        "import seaborn as sns"
      ],
      "metadata": {
        "colab": {
          "base_uri": "https://localhost:8080/"
        },
        "id": "9-ui15dboPzl",
        "outputId": "84bceba0-7c6e-4d63-dd2d-993e50864c95"
      },
      "execution_count": 30,
      "outputs": [
        {
          "output_type": "stream",
          "name": "stdout",
          "text": [
            "Looking in indexes: https://pypi.org/simple, https://us-python.pkg.dev/colab-wheels/public/simple/\n",
            "Requirement already satisfied: kmodes in /usr/local/lib/python3.7/dist-packages (0.12.2)\n",
            "Requirement already satisfied: joblib>=0.11 in /usr/local/lib/python3.7/dist-packages (from kmodes) (1.1.0)\n",
            "Requirement already satisfied: scipy>=0.13.3 in /usr/local/lib/python3.7/dist-packages (from kmodes) (1.7.3)\n",
            "Requirement already satisfied: numpy>=1.10.4 in /usr/local/lib/python3.7/dist-packages (from kmodes) (1.21.6)\n",
            "Requirement already satisfied: scikit-learn>=0.22.0 in /usr/local/lib/python3.7/dist-packages (from kmodes) (1.0.2)\n",
            "Requirement already satisfied: threadpoolctl>=2.0.0 in /usr/local/lib/python3.7/dist-packages (from scikit-learn>=0.22.0->kmodes) (3.1.0)\n"
          ]
        }
      ]
    },
    {
      "cell_type": "code",
      "source": [
        "columns = pd.read_csv(\"/content/drive/MyDrive/Walmart_MLE/census-income.columns\")\n",
        "column_names = columns.values.tolist()\n",
        "column_name_list = [item for sublist in column_names for item in sublist]\n"
      ],
      "metadata": {
        "id": "DjId9q_2oFAQ"
      },
      "execution_count": 31,
      "outputs": []
    },
    {
      "cell_type": "code",
      "source": [
        "data = pd.read_csv(\"/content/drive/MyDrive/Walmart_MLE/census-income.data\", names=column_name_list)"
      ],
      "metadata": {
        "id": "UHT6Kxm6oUtX"
      },
      "execution_count": 32,
      "outputs": []
    },
    {
      "cell_type": "markdown",
      "source": [
        "#Descriptive Stats"
      ],
      "metadata": {
        "id": "D9tFEsEels0W"
      }
    },
    {
      "cell_type": "code",
      "source": [
        "data.describe().T"
      ],
      "metadata": {
        "colab": {
          "base_uri": "https://localhost:8080/",
          "height": 426
        },
        "id": "YwqyguXvoXe6",
        "outputId": "72225ff1-e9cd-422e-8a39-25393aeb148a"
      },
      "execution_count": 33,
      "outputs": [
        {
          "output_type": "execute_result",
          "data": {
            "text/plain": [
              "                                    count         mean          std    min  \\\n",
              "detailed industry recode         199523.0    15.352320    18.067129   0.00   \n",
              "detailed occupation recode       199523.0    11.306556    14.454204   0.00   \n",
              "wage per hour                    199523.0    55.426908   274.896454   0.00   \n",
              "capital gains                    199523.0   434.718990  4697.531280   0.00   \n",
              "capital losses                   199523.0    37.313788   271.896428   0.00   \n",
              "dividends from stocks            199523.0   197.529533  1984.163658   0.00   \n",
              "instance weight                  199523.0  1740.380269   993.768156  37.87   \n",
              "num persons worked for employer  199523.0     1.956180     2.365126   0.00   \n",
              "own business or self employed    199523.0     0.175438     0.553694   0.00   \n",
              "veterans benefits                199523.0     1.514833     0.851473   0.00   \n",
              "weeks worked in year             199523.0    23.174897    24.411488   0.00   \n",
              "year                             199523.0    94.499672     0.500001  94.00   \n",
              "\n",
              "                                      25%      50%      75%      max  \n",
              "detailed industry recode            0.000     0.00    33.00     51.0  \n",
              "detailed occupation recode          0.000     0.00    26.00     46.0  \n",
              "wage per hour                       0.000     0.00     0.00   9999.0  \n",
              "capital gains                       0.000     0.00     0.00  99999.0  \n",
              "capital losses                      0.000     0.00     0.00   4608.0  \n",
              "dividends from stocks               0.000     0.00     0.00  99999.0  \n",
              "instance weight                  1061.615  1618.31  2188.61  18656.3  \n",
              "num persons worked for employer     0.000     1.00     4.00      6.0  \n",
              "own business or self employed       0.000     0.00     0.00      2.0  \n",
              "veterans benefits                   2.000     2.00     2.00      2.0  \n",
              "weeks worked in year                0.000     8.00    52.00     52.0  \n",
              "year                               94.000    94.00    95.00     95.0  "
            ],
            "text/html": [
              "\n",
              "  <div id=\"df-7de4df51-c5bf-4172-b6c9-8eec3413aa20\">\n",
              "    <div class=\"colab-df-container\">\n",
              "      <div>\n",
              "<style scoped>\n",
              "    .dataframe tbody tr th:only-of-type {\n",
              "        vertical-align: middle;\n",
              "    }\n",
              "\n",
              "    .dataframe tbody tr th {\n",
              "        vertical-align: top;\n",
              "    }\n",
              "\n",
              "    .dataframe thead th {\n",
              "        text-align: right;\n",
              "    }\n",
              "</style>\n",
              "<table border=\"1\" class=\"dataframe\">\n",
              "  <thead>\n",
              "    <tr style=\"text-align: right;\">\n",
              "      <th></th>\n",
              "      <th>count</th>\n",
              "      <th>mean</th>\n",
              "      <th>std</th>\n",
              "      <th>min</th>\n",
              "      <th>25%</th>\n",
              "      <th>50%</th>\n",
              "      <th>75%</th>\n",
              "      <th>max</th>\n",
              "    </tr>\n",
              "  </thead>\n",
              "  <tbody>\n",
              "    <tr>\n",
              "      <th>detailed industry recode</th>\n",
              "      <td>199523.0</td>\n",
              "      <td>15.352320</td>\n",
              "      <td>18.067129</td>\n",
              "      <td>0.00</td>\n",
              "      <td>0.000</td>\n",
              "      <td>0.00</td>\n",
              "      <td>33.00</td>\n",
              "      <td>51.0</td>\n",
              "    </tr>\n",
              "    <tr>\n",
              "      <th>detailed occupation recode</th>\n",
              "      <td>199523.0</td>\n",
              "      <td>11.306556</td>\n",
              "      <td>14.454204</td>\n",
              "      <td>0.00</td>\n",
              "      <td>0.000</td>\n",
              "      <td>0.00</td>\n",
              "      <td>26.00</td>\n",
              "      <td>46.0</td>\n",
              "    </tr>\n",
              "    <tr>\n",
              "      <th>wage per hour</th>\n",
              "      <td>199523.0</td>\n",
              "      <td>55.426908</td>\n",
              "      <td>274.896454</td>\n",
              "      <td>0.00</td>\n",
              "      <td>0.000</td>\n",
              "      <td>0.00</td>\n",
              "      <td>0.00</td>\n",
              "      <td>9999.0</td>\n",
              "    </tr>\n",
              "    <tr>\n",
              "      <th>capital gains</th>\n",
              "      <td>199523.0</td>\n",
              "      <td>434.718990</td>\n",
              "      <td>4697.531280</td>\n",
              "      <td>0.00</td>\n",
              "      <td>0.000</td>\n",
              "      <td>0.00</td>\n",
              "      <td>0.00</td>\n",
              "      <td>99999.0</td>\n",
              "    </tr>\n",
              "    <tr>\n",
              "      <th>capital losses</th>\n",
              "      <td>199523.0</td>\n",
              "      <td>37.313788</td>\n",
              "      <td>271.896428</td>\n",
              "      <td>0.00</td>\n",
              "      <td>0.000</td>\n",
              "      <td>0.00</td>\n",
              "      <td>0.00</td>\n",
              "      <td>4608.0</td>\n",
              "    </tr>\n",
              "    <tr>\n",
              "      <th>dividends from stocks</th>\n",
              "      <td>199523.0</td>\n",
              "      <td>197.529533</td>\n",
              "      <td>1984.163658</td>\n",
              "      <td>0.00</td>\n",
              "      <td>0.000</td>\n",
              "      <td>0.00</td>\n",
              "      <td>0.00</td>\n",
              "      <td>99999.0</td>\n",
              "    </tr>\n",
              "    <tr>\n",
              "      <th>instance weight</th>\n",
              "      <td>199523.0</td>\n",
              "      <td>1740.380269</td>\n",
              "      <td>993.768156</td>\n",
              "      <td>37.87</td>\n",
              "      <td>1061.615</td>\n",
              "      <td>1618.31</td>\n",
              "      <td>2188.61</td>\n",
              "      <td>18656.3</td>\n",
              "    </tr>\n",
              "    <tr>\n",
              "      <th>num persons worked for employer</th>\n",
              "      <td>199523.0</td>\n",
              "      <td>1.956180</td>\n",
              "      <td>2.365126</td>\n",
              "      <td>0.00</td>\n",
              "      <td>0.000</td>\n",
              "      <td>1.00</td>\n",
              "      <td>4.00</td>\n",
              "      <td>6.0</td>\n",
              "    </tr>\n",
              "    <tr>\n",
              "      <th>own business or self employed</th>\n",
              "      <td>199523.0</td>\n",
              "      <td>0.175438</td>\n",
              "      <td>0.553694</td>\n",
              "      <td>0.00</td>\n",
              "      <td>0.000</td>\n",
              "      <td>0.00</td>\n",
              "      <td>0.00</td>\n",
              "      <td>2.0</td>\n",
              "    </tr>\n",
              "    <tr>\n",
              "      <th>veterans benefits</th>\n",
              "      <td>199523.0</td>\n",
              "      <td>1.514833</td>\n",
              "      <td>0.851473</td>\n",
              "      <td>0.00</td>\n",
              "      <td>2.000</td>\n",
              "      <td>2.00</td>\n",
              "      <td>2.00</td>\n",
              "      <td>2.0</td>\n",
              "    </tr>\n",
              "    <tr>\n",
              "      <th>weeks worked in year</th>\n",
              "      <td>199523.0</td>\n",
              "      <td>23.174897</td>\n",
              "      <td>24.411488</td>\n",
              "      <td>0.00</td>\n",
              "      <td>0.000</td>\n",
              "      <td>8.00</td>\n",
              "      <td>52.00</td>\n",
              "      <td>52.0</td>\n",
              "    </tr>\n",
              "    <tr>\n",
              "      <th>year</th>\n",
              "      <td>199523.0</td>\n",
              "      <td>94.499672</td>\n",
              "      <td>0.500001</td>\n",
              "      <td>94.00</td>\n",
              "      <td>94.000</td>\n",
              "      <td>94.00</td>\n",
              "      <td>95.00</td>\n",
              "      <td>95.0</td>\n",
              "    </tr>\n",
              "  </tbody>\n",
              "</table>\n",
              "</div>\n",
              "      <button class=\"colab-df-convert\" onclick=\"convertToInteractive('df-7de4df51-c5bf-4172-b6c9-8eec3413aa20')\"\n",
              "              title=\"Convert this dataframe to an interactive table.\"\n",
              "              style=\"display:none;\">\n",
              "        \n",
              "  <svg xmlns=\"http://www.w3.org/2000/svg\" height=\"24px\"viewBox=\"0 0 24 24\"\n",
              "       width=\"24px\">\n",
              "    <path d=\"M0 0h24v24H0V0z\" fill=\"none\"/>\n",
              "    <path d=\"M18.56 5.44l.94 2.06.94-2.06 2.06-.94-2.06-.94-.94-2.06-.94 2.06-2.06.94zm-11 1L8.5 8.5l.94-2.06 2.06-.94-2.06-.94L8.5 2.5l-.94 2.06-2.06.94zm10 10l.94 2.06.94-2.06 2.06-.94-2.06-.94-.94-2.06-.94 2.06-2.06.94z\"/><path d=\"M17.41 7.96l-1.37-1.37c-.4-.4-.92-.59-1.43-.59-.52 0-1.04.2-1.43.59L10.3 9.45l-7.72 7.72c-.78.78-.78 2.05 0 2.83L4 21.41c.39.39.9.59 1.41.59.51 0 1.02-.2 1.41-.59l7.78-7.78 2.81-2.81c.8-.78.8-2.07 0-2.86zM5.41 20L4 18.59l7.72-7.72 1.47 1.35L5.41 20z\"/>\n",
              "  </svg>\n",
              "      </button>\n",
              "      \n",
              "  <style>\n",
              "    .colab-df-container {\n",
              "      display:flex;\n",
              "      flex-wrap:wrap;\n",
              "      gap: 12px;\n",
              "    }\n",
              "\n",
              "    .colab-df-convert {\n",
              "      background-color: #E8F0FE;\n",
              "      border: none;\n",
              "      border-radius: 50%;\n",
              "      cursor: pointer;\n",
              "      display: none;\n",
              "      fill: #1967D2;\n",
              "      height: 32px;\n",
              "      padding: 0 0 0 0;\n",
              "      width: 32px;\n",
              "    }\n",
              "\n",
              "    .colab-df-convert:hover {\n",
              "      background-color: #E2EBFA;\n",
              "      box-shadow: 0px 1px 2px rgba(60, 64, 67, 0.3), 0px 1px 3px 1px rgba(60, 64, 67, 0.15);\n",
              "      fill: #174EA6;\n",
              "    }\n",
              "\n",
              "    [theme=dark] .colab-df-convert {\n",
              "      background-color: #3B4455;\n",
              "      fill: #D2E3FC;\n",
              "    }\n",
              "\n",
              "    [theme=dark] .colab-df-convert:hover {\n",
              "      background-color: #434B5C;\n",
              "      box-shadow: 0px 1px 3px 1px rgba(0, 0, 0, 0.15);\n",
              "      filter: drop-shadow(0px 1px 2px rgba(0, 0, 0, 0.3));\n",
              "      fill: #FFFFFF;\n",
              "    }\n",
              "  </style>\n",
              "\n",
              "      <script>\n",
              "        const buttonEl =\n",
              "          document.querySelector('#df-7de4df51-c5bf-4172-b6c9-8eec3413aa20 button.colab-df-convert');\n",
              "        buttonEl.style.display =\n",
              "          google.colab.kernel.accessAllowed ? 'block' : 'none';\n",
              "\n",
              "        async function convertToInteractive(key) {\n",
              "          const element = document.querySelector('#df-7de4df51-c5bf-4172-b6c9-8eec3413aa20');\n",
              "          const dataTable =\n",
              "            await google.colab.kernel.invokeFunction('convertToInteractive',\n",
              "                                                     [key], {});\n",
              "          if (!dataTable) return;\n",
              "\n",
              "          const docLinkHtml = 'Like what you see? Visit the ' +\n",
              "            '<a target=\"_blank\" href=https://colab.research.google.com/notebooks/data_table.ipynb>data table notebook</a>'\n",
              "            + ' to learn more about interactive tables.';\n",
              "          element.innerHTML = '';\n",
              "          dataTable['output_type'] = 'display_data';\n",
              "          await google.colab.output.renderOutput(dataTable, element);\n",
              "          const docLink = document.createElement('div');\n",
              "          docLink.innerHTML = docLinkHtml;\n",
              "          element.appendChild(docLink);\n",
              "        }\n",
              "      </script>\n",
              "    </div>\n",
              "  </div>\n",
              "  "
            ]
          },
          "metadata": {},
          "execution_count": 33
        }
      ]
    },
    {
      "cell_type": "markdown",
      "source": [
        "#Data Cleaning"
      ],
      "metadata": {
        "id": "1HUiqc_elv48"
      }
    },
    {
      "cell_type": "code",
      "source": [
        "data[data== '?'] = np.nan\n",
        "data_new = data.dropna(axis=0)\n",
        "data_new = data_new.drop(['major industry code','major occupation code'], axis=1)\n",
        "data_new['label'].replace({'- 50000.':0, '50000+.':1}, inplace=True)"
      ],
      "metadata": {
        "id": "Ebb9JonOobUm"
      },
      "execution_count": 34,
      "outputs": []
    },
    {
      "cell_type": "code",
      "source": [
        "pd.set_option('display.max_columns', None)\n",
        "data_new.head()"
      ],
      "metadata": {
        "colab": {
          "base_uri": "https://localhost:8080/",
          "height": 635
        },
        "id": "4ipvUUqQomqk",
        "outputId": "f12f6c7e-a543-4994-98ca-8eaa7b5c9dc0"
      },
      "execution_count": 35,
      "outputs": [
        {
          "output_type": "execute_result",
          "data": {
            "text/plain": [
              "                   class of worker  detailed industry recode  \\\n",
              "58  Self-employed-not incorporated                         4   \n",
              "9                  Not in universe                         0   \n",
              "10                 Not in universe                         0   \n",
              "42                         Private                        34   \n",
              "34                         Private                         4   \n",
              "\n",
              "    detailed occupation recode                   education  wage per hour  \\\n",
              "58                          34  Some college but no degree              0   \n",
              "9                            0                    Children              0   \n",
              "10                           0                    Children              0   \n",
              "42                           3  Bachelors degree(BA AB BS)              0   \n",
              "34                          37  Some college but no degree              0   \n",
              "\n",
              "   enroll in edu inst last wk                     marital stat   race  \\\n",
              "58            Not in universe                         Divorced  White   \n",
              "9             Not in universe                    Never married  White   \n",
              "10            Not in universe                    Never married  White   \n",
              "42            Not in universe  Married-civilian spouse present  White   \n",
              "34            Not in universe  Married-civilian spouse present  White   \n",
              "\n",
              "   hispanic origin     sex member of a labor union reason for unemployment  \\\n",
              "58       All other    Male         Not in universe         Not in universe   \n",
              "9        All other  Female         Not in universe         Not in universe   \n",
              "10       All other  Female         Not in universe         Not in universe   \n",
              "42       All other    Male         Not in universe         Not in universe   \n",
              "34       All other    Male         Not in universe         Not in universe   \n",
              "\n",
              "   full or part time employment stat  capital gains  capital losses  \\\n",
              "58          Children or Armed Forces              0               0   \n",
              "9           Children or Armed Forces              0               0   \n",
              "10          Children or Armed Forces              0               0   \n",
              "42          Children or Armed Forces           5178               0   \n",
              "34          Children or Armed Forces              0               0   \n",
              "\n",
              "    dividends from stocks       tax filer stat region of previous residence  \\\n",
              "58                      0    Head of household                        South   \n",
              "9                       0             Nonfiler              Not in universe   \n",
              "10                      0             Nonfiler              Not in universe   \n",
              "42                      0  Joint both under 65              Not in universe   \n",
              "34                      0  Joint both under 65              Not in universe   \n",
              "\n",
              "   state of previous residence     detailed household and family stat  \\\n",
              "58                    Arkansas                            Householder   \n",
              "9              Not in universe  Child <18 never marr not in subfamily   \n",
              "10             Not in universe  Child <18 never marr not in subfamily   \n",
              "42             Not in universe                            Householder   \n",
              "34             Not in universe                            Householder   \n",
              "\n",
              "   detailed household summary in household  instance weight  \\\n",
              "58                             Householder          1053.55   \n",
              "9             Child under 18 never married          1758.14   \n",
              "10            Child under 18 never married          1069.16   \n",
              "42                             Householder          1535.86   \n",
              "34                             Householder          1146.79   \n",
              "\n",
              "   migration code-change in msa migration code-change in reg  \\\n",
              "58                   MSA to MSA                  Same county   \n",
              "9                      Nonmover                     Nonmover   \n",
              "10                     Nonmover                     Nonmover   \n",
              "42                     Nonmover                     Nonmover   \n",
              "34                     Nonmover                     Nonmover   \n",
              "\n",
              "   migration code-move within reg live in this house 1 year ago  \\\n",
              "58                    Same county                            No   \n",
              "9                        Nonmover                           Yes   \n",
              "10                       Nonmover                           Yes   \n",
              "42                       Nonmover                           Yes   \n",
              "34                       Nonmover                           Yes   \n",
              "\n",
              "   migration prev res in sunbelt  num persons worked for employer  \\\n",
              "58                           Yes                                1   \n",
              "9                Not in universe                                0   \n",
              "10               Not in universe                                0   \n",
              "42               Not in universe                                6   \n",
              "34               Not in universe                                6   \n",
              "\n",
              "   family members under 18 country of birth father country of birth mother  \\\n",
              "58         Not in universe           United-States           United-States   \n",
              "9     Both parents present           United-States           United-States   \n",
              "10    Both parents present           United-States           United-States   \n",
              "42         Not in universe           United-States           United-States   \n",
              "34         Not in universe           United-States           United-States   \n",
              "\n",
              "   country of birth self                        citizenship  \\\n",
              "58         United-States  Native- Born in the United States   \n",
              "9          United-States  Native- Born in the United States   \n",
              "10         United-States  Native- Born in the United States   \n",
              "42         United-States  Native- Born in the United States   \n",
              "34         United-States  Native- Born in the United States   \n",
              "\n",
              "    own business or self employed fill inc questionnaire for veteran's admin  \\\n",
              "58                              0                            Not in universe   \n",
              "9                               0                            Not in universe   \n",
              "10                              0                            Not in universe   \n",
              "42                              0                            Not in universe   \n",
              "34                              0                            Not in universe   \n",
              "\n",
              "    veterans benefits  weeks worked in year  year  label  \n",
              "58                  2                    52    94      0  \n",
              "9                   0                     0    94      0  \n",
              "10                  0                     0    94      0  \n",
              "42                  2                    52    94      0  \n",
              "34                  2                    52    94      0  "
            ],
            "text/html": [
              "\n",
              "  <div id=\"df-60459b5e-b013-41af-9b00-f6adcb152b6e\">\n",
              "    <div class=\"colab-df-container\">\n",
              "      <div>\n",
              "<style scoped>\n",
              "    .dataframe tbody tr th:only-of-type {\n",
              "        vertical-align: middle;\n",
              "    }\n",
              "\n",
              "    .dataframe tbody tr th {\n",
              "        vertical-align: top;\n",
              "    }\n",
              "\n",
              "    .dataframe thead th {\n",
              "        text-align: right;\n",
              "    }\n",
              "</style>\n",
              "<table border=\"1\" class=\"dataframe\">\n",
              "  <thead>\n",
              "    <tr style=\"text-align: right;\">\n",
              "      <th></th>\n",
              "      <th>class of worker</th>\n",
              "      <th>detailed industry recode</th>\n",
              "      <th>detailed occupation recode</th>\n",
              "      <th>education</th>\n",
              "      <th>wage per hour</th>\n",
              "      <th>enroll in edu inst last wk</th>\n",
              "      <th>marital stat</th>\n",
              "      <th>race</th>\n",
              "      <th>hispanic origin</th>\n",
              "      <th>sex</th>\n",
              "      <th>member of a labor union</th>\n",
              "      <th>reason for unemployment</th>\n",
              "      <th>full or part time employment stat</th>\n",
              "      <th>capital gains</th>\n",
              "      <th>capital losses</th>\n",
              "      <th>dividends from stocks</th>\n",
              "      <th>tax filer stat</th>\n",
              "      <th>region of previous residence</th>\n",
              "      <th>state of previous residence</th>\n",
              "      <th>detailed household and family stat</th>\n",
              "      <th>detailed household summary in household</th>\n",
              "      <th>instance weight</th>\n",
              "      <th>migration code-change in msa</th>\n",
              "      <th>migration code-change in reg</th>\n",
              "      <th>migration code-move within reg</th>\n",
              "      <th>live in this house 1 year ago</th>\n",
              "      <th>migration prev res in sunbelt</th>\n",
              "      <th>num persons worked for employer</th>\n",
              "      <th>family members under 18</th>\n",
              "      <th>country of birth father</th>\n",
              "      <th>country of birth mother</th>\n",
              "      <th>country of birth self</th>\n",
              "      <th>citizenship</th>\n",
              "      <th>own business or self employed</th>\n",
              "      <th>fill inc questionnaire for veteran's admin</th>\n",
              "      <th>veterans benefits</th>\n",
              "      <th>weeks worked in year</th>\n",
              "      <th>year</th>\n",
              "      <th>label</th>\n",
              "    </tr>\n",
              "  </thead>\n",
              "  <tbody>\n",
              "    <tr>\n",
              "      <th>58</th>\n",
              "      <td>Self-employed-not incorporated</td>\n",
              "      <td>4</td>\n",
              "      <td>34</td>\n",
              "      <td>Some college but no degree</td>\n",
              "      <td>0</td>\n",
              "      <td>Not in universe</td>\n",
              "      <td>Divorced</td>\n",
              "      <td>White</td>\n",
              "      <td>All other</td>\n",
              "      <td>Male</td>\n",
              "      <td>Not in universe</td>\n",
              "      <td>Not in universe</td>\n",
              "      <td>Children or Armed Forces</td>\n",
              "      <td>0</td>\n",
              "      <td>0</td>\n",
              "      <td>0</td>\n",
              "      <td>Head of household</td>\n",
              "      <td>South</td>\n",
              "      <td>Arkansas</td>\n",
              "      <td>Householder</td>\n",
              "      <td>Householder</td>\n",
              "      <td>1053.55</td>\n",
              "      <td>MSA to MSA</td>\n",
              "      <td>Same county</td>\n",
              "      <td>Same county</td>\n",
              "      <td>No</td>\n",
              "      <td>Yes</td>\n",
              "      <td>1</td>\n",
              "      <td>Not in universe</td>\n",
              "      <td>United-States</td>\n",
              "      <td>United-States</td>\n",
              "      <td>United-States</td>\n",
              "      <td>Native- Born in the United States</td>\n",
              "      <td>0</td>\n",
              "      <td>Not in universe</td>\n",
              "      <td>2</td>\n",
              "      <td>52</td>\n",
              "      <td>94</td>\n",
              "      <td>0</td>\n",
              "    </tr>\n",
              "    <tr>\n",
              "      <th>9</th>\n",
              "      <td>Not in universe</td>\n",
              "      <td>0</td>\n",
              "      <td>0</td>\n",
              "      <td>Children</td>\n",
              "      <td>0</td>\n",
              "      <td>Not in universe</td>\n",
              "      <td>Never married</td>\n",
              "      <td>White</td>\n",
              "      <td>All other</td>\n",
              "      <td>Female</td>\n",
              "      <td>Not in universe</td>\n",
              "      <td>Not in universe</td>\n",
              "      <td>Children or Armed Forces</td>\n",
              "      <td>0</td>\n",
              "      <td>0</td>\n",
              "      <td>0</td>\n",
              "      <td>Nonfiler</td>\n",
              "      <td>Not in universe</td>\n",
              "      <td>Not in universe</td>\n",
              "      <td>Child &lt;18 never marr not in subfamily</td>\n",
              "      <td>Child under 18 never married</td>\n",
              "      <td>1758.14</td>\n",
              "      <td>Nonmover</td>\n",
              "      <td>Nonmover</td>\n",
              "      <td>Nonmover</td>\n",
              "      <td>Yes</td>\n",
              "      <td>Not in universe</td>\n",
              "      <td>0</td>\n",
              "      <td>Both parents present</td>\n",
              "      <td>United-States</td>\n",
              "      <td>United-States</td>\n",
              "      <td>United-States</td>\n",
              "      <td>Native- Born in the United States</td>\n",
              "      <td>0</td>\n",
              "      <td>Not in universe</td>\n",
              "      <td>0</td>\n",
              "      <td>0</td>\n",
              "      <td>94</td>\n",
              "      <td>0</td>\n",
              "    </tr>\n",
              "    <tr>\n",
              "      <th>10</th>\n",
              "      <td>Not in universe</td>\n",
              "      <td>0</td>\n",
              "      <td>0</td>\n",
              "      <td>Children</td>\n",
              "      <td>0</td>\n",
              "      <td>Not in universe</td>\n",
              "      <td>Never married</td>\n",
              "      <td>White</td>\n",
              "      <td>All other</td>\n",
              "      <td>Female</td>\n",
              "      <td>Not in universe</td>\n",
              "      <td>Not in universe</td>\n",
              "      <td>Children or Armed Forces</td>\n",
              "      <td>0</td>\n",
              "      <td>0</td>\n",
              "      <td>0</td>\n",
              "      <td>Nonfiler</td>\n",
              "      <td>Not in universe</td>\n",
              "      <td>Not in universe</td>\n",
              "      <td>Child &lt;18 never marr not in subfamily</td>\n",
              "      <td>Child under 18 never married</td>\n",
              "      <td>1069.16</td>\n",
              "      <td>Nonmover</td>\n",
              "      <td>Nonmover</td>\n",
              "      <td>Nonmover</td>\n",
              "      <td>Yes</td>\n",
              "      <td>Not in universe</td>\n",
              "      <td>0</td>\n",
              "      <td>Both parents present</td>\n",
              "      <td>United-States</td>\n",
              "      <td>United-States</td>\n",
              "      <td>United-States</td>\n",
              "      <td>Native- Born in the United States</td>\n",
              "      <td>0</td>\n",
              "      <td>Not in universe</td>\n",
              "      <td>0</td>\n",
              "      <td>0</td>\n",
              "      <td>94</td>\n",
              "      <td>0</td>\n",
              "    </tr>\n",
              "    <tr>\n",
              "      <th>42</th>\n",
              "      <td>Private</td>\n",
              "      <td>34</td>\n",
              "      <td>3</td>\n",
              "      <td>Bachelors degree(BA AB BS)</td>\n",
              "      <td>0</td>\n",
              "      <td>Not in universe</td>\n",
              "      <td>Married-civilian spouse present</td>\n",
              "      <td>White</td>\n",
              "      <td>All other</td>\n",
              "      <td>Male</td>\n",
              "      <td>Not in universe</td>\n",
              "      <td>Not in universe</td>\n",
              "      <td>Children or Armed Forces</td>\n",
              "      <td>5178</td>\n",
              "      <td>0</td>\n",
              "      <td>0</td>\n",
              "      <td>Joint both under 65</td>\n",
              "      <td>Not in universe</td>\n",
              "      <td>Not in universe</td>\n",
              "      <td>Householder</td>\n",
              "      <td>Householder</td>\n",
              "      <td>1535.86</td>\n",
              "      <td>Nonmover</td>\n",
              "      <td>Nonmover</td>\n",
              "      <td>Nonmover</td>\n",
              "      <td>Yes</td>\n",
              "      <td>Not in universe</td>\n",
              "      <td>6</td>\n",
              "      <td>Not in universe</td>\n",
              "      <td>United-States</td>\n",
              "      <td>United-States</td>\n",
              "      <td>United-States</td>\n",
              "      <td>Native- Born in the United States</td>\n",
              "      <td>0</td>\n",
              "      <td>Not in universe</td>\n",
              "      <td>2</td>\n",
              "      <td>52</td>\n",
              "      <td>94</td>\n",
              "      <td>0</td>\n",
              "    </tr>\n",
              "    <tr>\n",
              "      <th>34</th>\n",
              "      <td>Private</td>\n",
              "      <td>4</td>\n",
              "      <td>37</td>\n",
              "      <td>Some college but no degree</td>\n",
              "      <td>0</td>\n",
              "      <td>Not in universe</td>\n",
              "      <td>Married-civilian spouse present</td>\n",
              "      <td>White</td>\n",
              "      <td>All other</td>\n",
              "      <td>Male</td>\n",
              "      <td>Not in universe</td>\n",
              "      <td>Not in universe</td>\n",
              "      <td>Children or Armed Forces</td>\n",
              "      <td>0</td>\n",
              "      <td>0</td>\n",
              "      <td>0</td>\n",
              "      <td>Joint both under 65</td>\n",
              "      <td>Not in universe</td>\n",
              "      <td>Not in universe</td>\n",
              "      <td>Householder</td>\n",
              "      <td>Householder</td>\n",
              "      <td>1146.79</td>\n",
              "      <td>Nonmover</td>\n",
              "      <td>Nonmover</td>\n",
              "      <td>Nonmover</td>\n",
              "      <td>Yes</td>\n",
              "      <td>Not in universe</td>\n",
              "      <td>6</td>\n",
              "      <td>Not in universe</td>\n",
              "      <td>United-States</td>\n",
              "      <td>United-States</td>\n",
              "      <td>United-States</td>\n",
              "      <td>Native- Born in the United States</td>\n",
              "      <td>0</td>\n",
              "      <td>Not in universe</td>\n",
              "      <td>2</td>\n",
              "      <td>52</td>\n",
              "      <td>94</td>\n",
              "      <td>0</td>\n",
              "    </tr>\n",
              "  </tbody>\n",
              "</table>\n",
              "</div>\n",
              "      <button class=\"colab-df-convert\" onclick=\"convertToInteractive('df-60459b5e-b013-41af-9b00-f6adcb152b6e')\"\n",
              "              title=\"Convert this dataframe to an interactive table.\"\n",
              "              style=\"display:none;\">\n",
              "        \n",
              "  <svg xmlns=\"http://www.w3.org/2000/svg\" height=\"24px\"viewBox=\"0 0 24 24\"\n",
              "       width=\"24px\">\n",
              "    <path d=\"M0 0h24v24H0V0z\" fill=\"none\"/>\n",
              "    <path d=\"M18.56 5.44l.94 2.06.94-2.06 2.06-.94-2.06-.94-.94-2.06-.94 2.06-2.06.94zm-11 1L8.5 8.5l.94-2.06 2.06-.94-2.06-.94L8.5 2.5l-.94 2.06-2.06.94zm10 10l.94 2.06.94-2.06 2.06-.94-2.06-.94-.94-2.06-.94 2.06-2.06.94z\"/><path d=\"M17.41 7.96l-1.37-1.37c-.4-.4-.92-.59-1.43-.59-.52 0-1.04.2-1.43.59L10.3 9.45l-7.72 7.72c-.78.78-.78 2.05 0 2.83L4 21.41c.39.39.9.59 1.41.59.51 0 1.02-.2 1.41-.59l7.78-7.78 2.81-2.81c.8-.78.8-2.07 0-2.86zM5.41 20L4 18.59l7.72-7.72 1.47 1.35L5.41 20z\"/>\n",
              "  </svg>\n",
              "      </button>\n",
              "      \n",
              "  <style>\n",
              "    .colab-df-container {\n",
              "      display:flex;\n",
              "      flex-wrap:wrap;\n",
              "      gap: 12px;\n",
              "    }\n",
              "\n",
              "    .colab-df-convert {\n",
              "      background-color: #E8F0FE;\n",
              "      border: none;\n",
              "      border-radius: 50%;\n",
              "      cursor: pointer;\n",
              "      display: none;\n",
              "      fill: #1967D2;\n",
              "      height: 32px;\n",
              "      padding: 0 0 0 0;\n",
              "      width: 32px;\n",
              "    }\n",
              "\n",
              "    .colab-df-convert:hover {\n",
              "      background-color: #E2EBFA;\n",
              "      box-shadow: 0px 1px 2px rgba(60, 64, 67, 0.3), 0px 1px 3px 1px rgba(60, 64, 67, 0.15);\n",
              "      fill: #174EA6;\n",
              "    }\n",
              "\n",
              "    [theme=dark] .colab-df-convert {\n",
              "      background-color: #3B4455;\n",
              "      fill: #D2E3FC;\n",
              "    }\n",
              "\n",
              "    [theme=dark] .colab-df-convert:hover {\n",
              "      background-color: #434B5C;\n",
              "      box-shadow: 0px 1px 3px 1px rgba(0, 0, 0, 0.15);\n",
              "      filter: drop-shadow(0px 1px 2px rgba(0, 0, 0, 0.3));\n",
              "      fill: #FFFFFF;\n",
              "    }\n",
              "  </style>\n",
              "\n",
              "      <script>\n",
              "        const buttonEl =\n",
              "          document.querySelector('#df-60459b5e-b013-41af-9b00-f6adcb152b6e button.colab-df-convert');\n",
              "        buttonEl.style.display =\n",
              "          google.colab.kernel.accessAllowed ? 'block' : 'none';\n",
              "\n",
              "        async function convertToInteractive(key) {\n",
              "          const element = document.querySelector('#df-60459b5e-b013-41af-9b00-f6adcb152b6e');\n",
              "          const dataTable =\n",
              "            await google.colab.kernel.invokeFunction('convertToInteractive',\n",
              "                                                     [key], {});\n",
              "          if (!dataTable) return;\n",
              "\n",
              "          const docLinkHtml = 'Like what you see? Visit the ' +\n",
              "            '<a target=\"_blank\" href=https://colab.research.google.com/notebooks/data_table.ipynb>data table notebook</a>'\n",
              "            + ' to learn more about interactive tables.';\n",
              "          element.innerHTML = '';\n",
              "          dataTable['output_type'] = 'display_data';\n",
              "          await google.colab.output.renderOutput(dataTable, element);\n",
              "          const docLink = document.createElement('div');\n",
              "          docLink.innerHTML = docLinkHtml;\n",
              "          element.appendChild(docLink);\n",
              "        }\n",
              "      </script>\n",
              "    </div>\n",
              "  </div>\n",
              "  "
            ]
          },
          "metadata": {},
          "execution_count": 35
        }
      ]
    },
    {
      "cell_type": "markdown",
      "source": [
        "#Feature Engineering"
      ],
      "metadata": {
        "id": "6A_sJ_ayly5Z"
      }
    },
    {
      "cell_type": "code",
      "source": [
        "def cross_tab(obs1=[]):\n",
        "    observed=pd.crosstab(obs1,data_new['label'])\n",
        "    val=stats.chi2_contingency(observed)\n",
        "    return(val[1])\n",
        "\n",
        "category=data_new.columns[data_new.dtypes!=object].tolist()\n",
        "\n",
        "alpha=0.01\n",
        "count=0\n",
        "features=[]\n",
        "for i in category:\n",
        "    p_value=cross_tab(data_new[i])\n",
        "    if p_value<=alpha:\n",
        "        count+=1\n",
        "        features.append(i)\n",
        "features"
      ],
      "metadata": {
        "colab": {
          "base_uri": "https://localhost:8080/"
        },
        "id": "GRkRorgloqWD",
        "outputId": "f088d48d-6692-439c-9759-24a792a9dcb8"
      },
      "execution_count": 36,
      "outputs": [
        {
          "output_type": "execute_result",
          "data": {
            "text/plain": [
              "['detailed industry recode',\n",
              " 'detailed occupation recode',\n",
              " 'wage per hour',\n",
              " 'capital gains',\n",
              " 'capital losses',\n",
              " 'dividends from stocks',\n",
              " 'num persons worked for employer',\n",
              " 'own business or self employed',\n",
              " 'veterans benefits',\n",
              " 'weeks worked in year',\n",
              " 'label']"
            ]
          },
          "metadata": {},
          "execution_count": 36
        }
      ]
    },
    {
      "cell_type": "code",
      "source": [
        "# columns_to_scale = ['wage per hour', 'capital gains', 'capital losses', 'dividends from stocks', 'veterans benefits', 'weeks worked in year']\n",
        "# mms = MinMaxScaler()\n",
        "# min_max_scaled_columns = mms.fit_transform(data_new[columns_to_scale])\n"
      ],
      "metadata": {
        "id": "sDsqD6o6ytiV"
      },
      "execution_count": 37,
      "outputs": []
    },
    {
      "cell_type": "code",
      "source": [
        "data_new['education'].value_counts().keys()"
      ],
      "metadata": {
        "colab": {
          "base_uri": "https://localhost:8080/"
        },
        "id": "Fb7LVWpmzotl",
        "outputId": "7af6355c-e770-45e4-d265-60c2ccf144a7"
      },
      "execution_count": 38,
      "outputs": [
        {
          "output_type": "execute_result",
          "data": {
            "text/plain": [
              "Index(['High school graduate', 'Children', 'Some college but no degree',\n",
              "       'Bachelors degree(BA AB BS)', '7th and 8th grade', '10th grade',\n",
              "       '11th grade', 'Masters degree(MA MS MEng MEd MSW MBA)', '9th grade',\n",
              "       'Associates degree-occup /vocational',\n",
              "       'Associates degree-academic program', '5th or 6th grade',\n",
              "       '12th grade no diploma', '1st 2nd 3rd or 4th grade',\n",
              "       'Prof school degree (MD DDS DVM LLB JD)', 'Doctorate degree(PhD EdD)',\n",
              "       'Less than 1st grade'],\n",
              "      dtype='object')"
            ]
          },
          "metadata": {},
          "execution_count": 38
        }
      ]
    },
    {
      "cell_type": "markdown",
      "source": [
        "#Feature reconfiguration"
      ],
      "metadata": {
        "id": "p68iy0w0l6m4"
      }
    },
    {
      "cell_type": "code",
      "source": [
        "data_new['education'] = data_new['education'].str.replace('Children', '0')\n",
        "data_new['education'] = data_new['education'].str.replace('Less than 1st grade', '1')\n",
        "data_new['education'] = data_new['education'].str.replace('1st 2nd 3rd or 4th grade', '1')\n",
        "data_new['education'] = data_new['education'].str.replace('5th or 6th grade', '1')\n",
        "data_new['education'] = data_new['education'].str.replace('7th and 8th grade', '1')\n",
        "data_new['education'] = data_new['education'].str.replace('9th grade', '1')\n",
        "data_new['education'] = data_new['education'].str.replace('10th grade', '1')\n",
        "data_new['education'] = data_new['education'].str.replace('11th grade', '1')\n",
        "data_new['education'] = data_new['education'].str.replace('12th grade no diploma', '1')\n",
        "data_new['education'] = data_new['education'].str.replace('High school graduate', '2')\n",
        "data_new['education'] = data_new['education'].str.replace('Some college but no degree', '2')\n",
        "data_new['education'] = data_new['education'].str.replace('Associates degree-occup /vocational', '2')\n",
        "data_new['education'] = data_new['education'].str.replace('Associates degree-academic program', '2')\n",
        "data_new['education'].replace({'Bachelors degree(BA AB BS)':'3', 'Masters degree(MA MS MEng MEd MSW MBA)': '3', 'Prof school degree (MD DDS DVM LLB JD)': '3', 'Doctorate degree(PhD EdD)': '3'}, inplace=True)\n",
        "# data_new['education'] = data_new['education'].str.replace('Bachelors degree(BA AB BS)', '3')\n",
        "# data_new['education'] = data_new['education'].str.replace('Masters degree(MA MS MEng MEd MSW MBA)', '3')\n",
        "# data_new['education'] = data_new['education'].str.replace('Prof school degree (MD DDS DVM LLB JD)', '3')\n",
        "# data_new['education'] = data_new['education'].str.replace('Doctorate degree(PhD EdD)', '3')\n",
        "data_new['education'] = pd.to_numeric(data_new['education'])"
      ],
      "metadata": {
        "id": "5R1tXKWizySu"
      },
      "execution_count": 39,
      "outputs": []
    },
    {
      "cell_type": "code",
      "source": [
        "data_new['marital stat'].value_counts().keys()"
      ],
      "metadata": {
        "colab": {
          "base_uri": "https://localhost:8080/"
        },
        "id": "tTll2kB94_BA",
        "outputId": "c3d68b7f-0414-40d3-9fe6-fa01a2be9a55"
      },
      "execution_count": 40,
      "outputs": [
        {
          "output_type": "execute_result",
          "data": {
            "text/plain": [
              "Index(['Never married', 'Married-civilian spouse present', 'Divorced',\n",
              "       'Widowed', 'Separated', 'Married-spouse absent',\n",
              "       'Married-A F spouse present'],\n",
              "      dtype='object')"
            ]
          },
          "metadata": {},
          "execution_count": 40
        }
      ]
    },
    {
      "cell_type": "code",
      "source": [
        "data_new['marital stat'] = data_new['marital stat'].str.replace('Married-civilian spouse present', '1')\n",
        "data_new['marital stat'] = data_new['marital stat'].str.replace('Married-spouse absent', '1')\n",
        "data_new['marital stat'] = data_new['marital stat'].str.replace('Married-A F spouse present', '1')\n",
        "data_new['marital stat'] = data_new['marital stat'].str.replace('Divorced', '0')\n",
        "data_new['marital stat'] = data_new['marital stat'].str.replace('Separated', '0')\n",
        "data_new['marital stat'] = data_new['marital stat'].str.replace('Widowed', '0')\n",
        "data_new['marital stat'] = data_new['marital stat'].str.replace('Never married', '0')\n",
        "data_new['marital stat'] = pd.to_numeric(data_new['marital stat'])"
      ],
      "metadata": {
        "id": "gFV2s90K5mwM"
      },
      "execution_count": 41,
      "outputs": []
    },
    {
      "cell_type": "code",
      "source": [
        "data_new['race'].value_counts()"
      ],
      "metadata": {
        "colab": {
          "base_uri": "https://localhost:8080/"
        },
        "id": "QSwH8xi86ekj",
        "outputId": "876ccc0c-8365-40dd-e602-60a6906b4016"
      },
      "execution_count": 42,
      "outputs": [
        {
          "output_type": "execute_result",
          "data": {
            "text/plain": [
              "White                          80351\n",
              "Black                           9694\n",
              "Asian or Pacific Islander       2215\n",
              "Other                           1127\n",
              "Amer Indian Aleut or Eskimo     1075\n",
              "Name: race, dtype: int64"
            ]
          },
          "metadata": {},
          "execution_count": 42
        }
      ]
    },
    {
      "cell_type": "code",
      "source": [
        "data_new['sex'].value_counts()"
      ],
      "metadata": {
        "colab": {
          "base_uri": "https://localhost:8080/"
        },
        "id": "t2LMG3iT6w4y",
        "outputId": "e7ffb918-4448-4af4-ea35-69253dac7ef8"
      },
      "execution_count": 43,
      "outputs": [
        {
          "output_type": "execute_result",
          "data": {
            "text/plain": [
              "Female    49150\n",
              "Male      45312\n",
              "Name: sex, dtype: int64"
            ]
          },
          "metadata": {},
          "execution_count": 43
        }
      ]
    },
    {
      "cell_type": "code",
      "source": [
        "data_new['sex'] = data_new['sex'].str.replace('Female', '0')\n",
        "data_new['sex'] = data_new['sex'].str.replace('Male', '1')\n",
        "data_new['sex'] = pd.to_numeric(data_new['sex'])"
      ],
      "metadata": {
        "id": "yxzwY4x46oJh"
      },
      "execution_count": 44,
      "outputs": []
    },
    {
      "cell_type": "markdown",
      "source": [
        "#Feature Reduction/Pruning"
      ],
      "metadata": {
        "id": "UiYap4ermQx2"
      }
    },
    {
      "cell_type": "code",
      "source": [
        "data_new.drop(['enroll in edu inst last wk', 'hispanic origin', 'reason for unemployment', 'migration code-change in msa',\t'migration code-change in reg',\t'migration code-move within reg',\t'family members under 18', 'instance weight',\\\n",
        "               'live in this house 1 year ago',\t'migration prev res in sunbelt', \"fill inc questionnaire for veteran's admin\", 'full or part time employment stat', 'region of previous residence', 'detailed household and family stat',\\\n",
        "               'country of birth father', 'country of birth mother', 'country of birth self','own business or self employed',\t'veterans benefits',\t'weeks worked in year',\t'year','capital gains', 'capital losses',\t'dividends from stocks',\\\n",
        "               'wage per hour', 'member of a labor union'], axis=1, inplace=True)"
      ],
      "metadata": {
        "id": "sV2WG_Au69nz"
      },
      "execution_count": 45,
      "outputs": []
    },
    {
      "cell_type": "code",
      "source": [
        "data_new.head()"
      ],
      "metadata": {
        "colab": {
          "base_uri": "https://localhost:8080/",
          "height": 389
        },
        "id": "qQc2GqXF67sF",
        "outputId": "df13458c-cb12-434e-89c9-ee5003f6df20"
      },
      "execution_count": 46,
      "outputs": [
        {
          "output_type": "execute_result",
          "data": {
            "text/plain": [
              "                   class of worker  detailed industry recode  \\\n",
              "58  Self-employed-not incorporated                         4   \n",
              "9                  Not in universe                         0   \n",
              "10                 Not in universe                         0   \n",
              "42                         Private                        34   \n",
              "34                         Private                         4   \n",
              "\n",
              "    detailed occupation recode  education  marital stat   race  sex  \\\n",
              "58                          34          2             0  White    1   \n",
              "9                            0          0             0  White    0   \n",
              "10                           0          0             0  White    0   \n",
              "42                           3          3             1  White    1   \n",
              "34                          37          2             1  White    1   \n",
              "\n",
              "         tax filer stat state of previous residence  \\\n",
              "58    Head of household                    Arkansas   \n",
              "9              Nonfiler             Not in universe   \n",
              "10             Nonfiler             Not in universe   \n",
              "42  Joint both under 65             Not in universe   \n",
              "34  Joint both under 65             Not in universe   \n",
              "\n",
              "   detailed household summary in household  num persons worked for employer  \\\n",
              "58                             Householder                                1   \n",
              "9             Child under 18 never married                                0   \n",
              "10            Child under 18 never married                                0   \n",
              "42                             Householder                                6   \n",
              "34                             Householder                                6   \n",
              "\n",
              "                          citizenship  label  \n",
              "58  Native- Born in the United States      0  \n",
              "9   Native- Born in the United States      0  \n",
              "10  Native- Born in the United States      0  \n",
              "42  Native- Born in the United States      0  \n",
              "34  Native- Born in the United States      0  "
            ],
            "text/html": [
              "\n",
              "  <div id=\"df-a48422bc-0f89-449e-9c0d-5e1174978af7\">\n",
              "    <div class=\"colab-df-container\">\n",
              "      <div>\n",
              "<style scoped>\n",
              "    .dataframe tbody tr th:only-of-type {\n",
              "        vertical-align: middle;\n",
              "    }\n",
              "\n",
              "    .dataframe tbody tr th {\n",
              "        vertical-align: top;\n",
              "    }\n",
              "\n",
              "    .dataframe thead th {\n",
              "        text-align: right;\n",
              "    }\n",
              "</style>\n",
              "<table border=\"1\" class=\"dataframe\">\n",
              "  <thead>\n",
              "    <tr style=\"text-align: right;\">\n",
              "      <th></th>\n",
              "      <th>class of worker</th>\n",
              "      <th>detailed industry recode</th>\n",
              "      <th>detailed occupation recode</th>\n",
              "      <th>education</th>\n",
              "      <th>marital stat</th>\n",
              "      <th>race</th>\n",
              "      <th>sex</th>\n",
              "      <th>tax filer stat</th>\n",
              "      <th>state of previous residence</th>\n",
              "      <th>detailed household summary in household</th>\n",
              "      <th>num persons worked for employer</th>\n",
              "      <th>citizenship</th>\n",
              "      <th>label</th>\n",
              "    </tr>\n",
              "  </thead>\n",
              "  <tbody>\n",
              "    <tr>\n",
              "      <th>58</th>\n",
              "      <td>Self-employed-not incorporated</td>\n",
              "      <td>4</td>\n",
              "      <td>34</td>\n",
              "      <td>2</td>\n",
              "      <td>0</td>\n",
              "      <td>White</td>\n",
              "      <td>1</td>\n",
              "      <td>Head of household</td>\n",
              "      <td>Arkansas</td>\n",
              "      <td>Householder</td>\n",
              "      <td>1</td>\n",
              "      <td>Native- Born in the United States</td>\n",
              "      <td>0</td>\n",
              "    </tr>\n",
              "    <tr>\n",
              "      <th>9</th>\n",
              "      <td>Not in universe</td>\n",
              "      <td>0</td>\n",
              "      <td>0</td>\n",
              "      <td>0</td>\n",
              "      <td>0</td>\n",
              "      <td>White</td>\n",
              "      <td>0</td>\n",
              "      <td>Nonfiler</td>\n",
              "      <td>Not in universe</td>\n",
              "      <td>Child under 18 never married</td>\n",
              "      <td>0</td>\n",
              "      <td>Native- Born in the United States</td>\n",
              "      <td>0</td>\n",
              "    </tr>\n",
              "    <tr>\n",
              "      <th>10</th>\n",
              "      <td>Not in universe</td>\n",
              "      <td>0</td>\n",
              "      <td>0</td>\n",
              "      <td>0</td>\n",
              "      <td>0</td>\n",
              "      <td>White</td>\n",
              "      <td>0</td>\n",
              "      <td>Nonfiler</td>\n",
              "      <td>Not in universe</td>\n",
              "      <td>Child under 18 never married</td>\n",
              "      <td>0</td>\n",
              "      <td>Native- Born in the United States</td>\n",
              "      <td>0</td>\n",
              "    </tr>\n",
              "    <tr>\n",
              "      <th>42</th>\n",
              "      <td>Private</td>\n",
              "      <td>34</td>\n",
              "      <td>3</td>\n",
              "      <td>3</td>\n",
              "      <td>1</td>\n",
              "      <td>White</td>\n",
              "      <td>1</td>\n",
              "      <td>Joint both under 65</td>\n",
              "      <td>Not in universe</td>\n",
              "      <td>Householder</td>\n",
              "      <td>6</td>\n",
              "      <td>Native- Born in the United States</td>\n",
              "      <td>0</td>\n",
              "    </tr>\n",
              "    <tr>\n",
              "      <th>34</th>\n",
              "      <td>Private</td>\n",
              "      <td>4</td>\n",
              "      <td>37</td>\n",
              "      <td>2</td>\n",
              "      <td>1</td>\n",
              "      <td>White</td>\n",
              "      <td>1</td>\n",
              "      <td>Joint both under 65</td>\n",
              "      <td>Not in universe</td>\n",
              "      <td>Householder</td>\n",
              "      <td>6</td>\n",
              "      <td>Native- Born in the United States</td>\n",
              "      <td>0</td>\n",
              "    </tr>\n",
              "  </tbody>\n",
              "</table>\n",
              "</div>\n",
              "      <button class=\"colab-df-convert\" onclick=\"convertToInteractive('df-a48422bc-0f89-449e-9c0d-5e1174978af7')\"\n",
              "              title=\"Convert this dataframe to an interactive table.\"\n",
              "              style=\"display:none;\">\n",
              "        \n",
              "  <svg xmlns=\"http://www.w3.org/2000/svg\" height=\"24px\"viewBox=\"0 0 24 24\"\n",
              "       width=\"24px\">\n",
              "    <path d=\"M0 0h24v24H0V0z\" fill=\"none\"/>\n",
              "    <path d=\"M18.56 5.44l.94 2.06.94-2.06 2.06-.94-2.06-.94-.94-2.06-.94 2.06-2.06.94zm-11 1L8.5 8.5l.94-2.06 2.06-.94-2.06-.94L8.5 2.5l-.94 2.06-2.06.94zm10 10l.94 2.06.94-2.06 2.06-.94-2.06-.94-.94-2.06-.94 2.06-2.06.94z\"/><path d=\"M17.41 7.96l-1.37-1.37c-.4-.4-.92-.59-1.43-.59-.52 0-1.04.2-1.43.59L10.3 9.45l-7.72 7.72c-.78.78-.78 2.05 0 2.83L4 21.41c.39.39.9.59 1.41.59.51 0 1.02-.2 1.41-.59l7.78-7.78 2.81-2.81c.8-.78.8-2.07 0-2.86zM5.41 20L4 18.59l7.72-7.72 1.47 1.35L5.41 20z\"/>\n",
              "  </svg>\n",
              "      </button>\n",
              "      \n",
              "  <style>\n",
              "    .colab-df-container {\n",
              "      display:flex;\n",
              "      flex-wrap:wrap;\n",
              "      gap: 12px;\n",
              "    }\n",
              "\n",
              "    .colab-df-convert {\n",
              "      background-color: #E8F0FE;\n",
              "      border: none;\n",
              "      border-radius: 50%;\n",
              "      cursor: pointer;\n",
              "      display: none;\n",
              "      fill: #1967D2;\n",
              "      height: 32px;\n",
              "      padding: 0 0 0 0;\n",
              "      width: 32px;\n",
              "    }\n",
              "\n",
              "    .colab-df-convert:hover {\n",
              "      background-color: #E2EBFA;\n",
              "      box-shadow: 0px 1px 2px rgba(60, 64, 67, 0.3), 0px 1px 3px 1px rgba(60, 64, 67, 0.15);\n",
              "      fill: #174EA6;\n",
              "    }\n",
              "\n",
              "    [theme=dark] .colab-df-convert {\n",
              "      background-color: #3B4455;\n",
              "      fill: #D2E3FC;\n",
              "    }\n",
              "\n",
              "    [theme=dark] .colab-df-convert:hover {\n",
              "      background-color: #434B5C;\n",
              "      box-shadow: 0px 1px 3px 1px rgba(0, 0, 0, 0.15);\n",
              "      filter: drop-shadow(0px 1px 2px rgba(0, 0, 0, 0.3));\n",
              "      fill: #FFFFFF;\n",
              "    }\n",
              "  </style>\n",
              "\n",
              "      <script>\n",
              "        const buttonEl =\n",
              "          document.querySelector('#df-a48422bc-0f89-449e-9c0d-5e1174978af7 button.colab-df-convert');\n",
              "        buttonEl.style.display =\n",
              "          google.colab.kernel.accessAllowed ? 'block' : 'none';\n",
              "\n",
              "        async function convertToInteractive(key) {\n",
              "          const element = document.querySelector('#df-a48422bc-0f89-449e-9c0d-5e1174978af7');\n",
              "          const dataTable =\n",
              "            await google.colab.kernel.invokeFunction('convertToInteractive',\n",
              "                                                     [key], {});\n",
              "          if (!dataTable) return;\n",
              "\n",
              "          const docLinkHtml = 'Like what you see? Visit the ' +\n",
              "            '<a target=\"_blank\" href=https://colab.research.google.com/notebooks/data_table.ipynb>data table notebook</a>'\n",
              "            + ' to learn more about interactive tables.';\n",
              "          element.innerHTML = '';\n",
              "          dataTable['output_type'] = 'display_data';\n",
              "          await google.colab.output.renderOutput(dataTable, element);\n",
              "          const docLink = document.createElement('div');\n",
              "          docLink.innerHTML = docLinkHtml;\n",
              "          element.appendChild(docLink);\n",
              "        }\n",
              "      </script>\n",
              "    </div>\n",
              "  </div>\n",
              "  "
            ]
          },
          "metadata": {},
          "execution_count": 46
        }
      ]
    },
    {
      "cell_type": "code",
      "source": [
        "data_new['tax filer stat'].value_counts()\n"
      ],
      "metadata": {
        "colab": {
          "base_uri": "https://localhost:8080/"
        },
        "id": "SVjZhit19Cbp",
        "outputId": "fd9c7165-829b-4730-ee8f-8204db92fc72"
      },
      "execution_count": 47,
      "outputs": [
        {
          "output_type": "execute_result",
          "data": {
            "text/plain": [
              "Nonfiler                        35827\n",
              "Joint both under 65             32074\n",
              "Single                          17462\n",
              "Joint both 65+                   3807\n",
              "Head of household                3533\n",
              "Joint one under 65 & one 65+     1759\n",
              "Name: tax filer stat, dtype: int64"
            ]
          },
          "metadata": {},
          "execution_count": 47
        }
      ]
    },
    {
      "cell_type": "code",
      "source": [
        "data_new.columns"
      ],
      "metadata": {
        "colab": {
          "base_uri": "https://localhost:8080/"
        },
        "id": "9UHIlz14-Cbq",
        "outputId": "96eeebde-ce36-4742-fc57-3d0635c0b6ab"
      },
      "execution_count": 48,
      "outputs": [
        {
          "output_type": "execute_result",
          "data": {
            "text/plain": [
              "Index(['class of worker', 'detailed industry recode',\n",
              "       'detailed occupation recode', 'education', 'marital stat', 'race',\n",
              "       'sex', 'tax filer stat', 'state of previous residence',\n",
              "       'detailed household summary in household',\n",
              "       'num persons worked for employer', 'citizenship', 'label'],\n",
              "      dtype='object')"
            ]
          },
          "metadata": {},
          "execution_count": 48
        }
      ]
    },
    {
      "cell_type": "markdown",
      "source": [
        "#Feature Encoding"
      ],
      "metadata": {
        "id": "YeCcQSwgmIUN"
      }
    },
    {
      "cell_type": "code",
      "source": [
        "\n",
        "categorical = ['class of worker', 'race', 'sex',\n",
        "       'tax filer stat', 'state of previous residence',\n",
        "       'detailed household summary in household',\n",
        "        'citizenship']\n",
        "data_train = data_new.copy(deep=True)\n",
        "for feature in categorical:\n",
        "        label = preprocessing.LabelEncoder()\n",
        "        data_train[feature] = label.fit_transform(data_train[feature])\n",
        "        # X_test[feature] = label.transform(X_test[feature])"
      ],
      "metadata": {
        "id": "cyCFKi0v9O6K"
      },
      "execution_count": 49,
      "outputs": []
    },
    {
      "cell_type": "code",
      "source": [
        "data_train.head()"
      ],
      "metadata": {
        "colab": {
          "base_uri": "https://localhost:8080/",
          "height": 285
        },
        "id": "f5K-2pCQgxo7",
        "outputId": "1eaaa93a-5e96-4d1d-a487-f27f520c0bd3"
      },
      "execution_count": 50,
      "outputs": [
        {
          "output_type": "execute_result",
          "data": {
            "text/plain": [
              "    class of worker  detailed industry recode  detailed occupation recode  \\\n",
              "58                6                         4                          34   \n",
              "9                 3                         0                           0   \n",
              "10                3                         0                           0   \n",
              "42                4                        34                           3   \n",
              "34                4                         4                          37   \n",
              "\n",
              "    education  marital stat  race  sex  tax filer stat  \\\n",
              "58          2             0     4    1               0   \n",
              "9           0             0     4    0               4   \n",
              "10          0             0     4    0               4   \n",
              "42          3             1     4    1               2   \n",
              "34          2             1     4    1               2   \n",
              "\n",
              "    state of previous residence  detailed household summary in household  \\\n",
              "58                            4                                        4   \n",
              "9                            35                                        2   \n",
              "10                           35                                        2   \n",
              "42                           35                                        4   \n",
              "34                           35                                        4   \n",
              "\n",
              "    num persons worked for employer  citizenship  label  \n",
              "58                                1            4      0  \n",
              "9                                 0            4      0  \n",
              "10                                0            4      0  \n",
              "42                                6            4      0  \n",
              "34                                6            4      0  "
            ],
            "text/html": [
              "\n",
              "  <div id=\"df-404a00ff-fc64-4794-8483-efcbf0a2c61d\">\n",
              "    <div class=\"colab-df-container\">\n",
              "      <div>\n",
              "<style scoped>\n",
              "    .dataframe tbody tr th:only-of-type {\n",
              "        vertical-align: middle;\n",
              "    }\n",
              "\n",
              "    .dataframe tbody tr th {\n",
              "        vertical-align: top;\n",
              "    }\n",
              "\n",
              "    .dataframe thead th {\n",
              "        text-align: right;\n",
              "    }\n",
              "</style>\n",
              "<table border=\"1\" class=\"dataframe\">\n",
              "  <thead>\n",
              "    <tr style=\"text-align: right;\">\n",
              "      <th></th>\n",
              "      <th>class of worker</th>\n",
              "      <th>detailed industry recode</th>\n",
              "      <th>detailed occupation recode</th>\n",
              "      <th>education</th>\n",
              "      <th>marital stat</th>\n",
              "      <th>race</th>\n",
              "      <th>sex</th>\n",
              "      <th>tax filer stat</th>\n",
              "      <th>state of previous residence</th>\n",
              "      <th>detailed household summary in household</th>\n",
              "      <th>num persons worked for employer</th>\n",
              "      <th>citizenship</th>\n",
              "      <th>label</th>\n",
              "    </tr>\n",
              "  </thead>\n",
              "  <tbody>\n",
              "    <tr>\n",
              "      <th>58</th>\n",
              "      <td>6</td>\n",
              "      <td>4</td>\n",
              "      <td>34</td>\n",
              "      <td>2</td>\n",
              "      <td>0</td>\n",
              "      <td>4</td>\n",
              "      <td>1</td>\n",
              "      <td>0</td>\n",
              "      <td>4</td>\n",
              "      <td>4</td>\n",
              "      <td>1</td>\n",
              "      <td>4</td>\n",
              "      <td>0</td>\n",
              "    </tr>\n",
              "    <tr>\n",
              "      <th>9</th>\n",
              "      <td>3</td>\n",
              "      <td>0</td>\n",
              "      <td>0</td>\n",
              "      <td>0</td>\n",
              "      <td>0</td>\n",
              "      <td>4</td>\n",
              "      <td>0</td>\n",
              "      <td>4</td>\n",
              "      <td>35</td>\n",
              "      <td>2</td>\n",
              "      <td>0</td>\n",
              "      <td>4</td>\n",
              "      <td>0</td>\n",
              "    </tr>\n",
              "    <tr>\n",
              "      <th>10</th>\n",
              "      <td>3</td>\n",
              "      <td>0</td>\n",
              "      <td>0</td>\n",
              "      <td>0</td>\n",
              "      <td>0</td>\n",
              "      <td>4</td>\n",
              "      <td>0</td>\n",
              "      <td>4</td>\n",
              "      <td>35</td>\n",
              "      <td>2</td>\n",
              "      <td>0</td>\n",
              "      <td>4</td>\n",
              "      <td>0</td>\n",
              "    </tr>\n",
              "    <tr>\n",
              "      <th>42</th>\n",
              "      <td>4</td>\n",
              "      <td>34</td>\n",
              "      <td>3</td>\n",
              "      <td>3</td>\n",
              "      <td>1</td>\n",
              "      <td>4</td>\n",
              "      <td>1</td>\n",
              "      <td>2</td>\n",
              "      <td>35</td>\n",
              "      <td>4</td>\n",
              "      <td>6</td>\n",
              "      <td>4</td>\n",
              "      <td>0</td>\n",
              "    </tr>\n",
              "    <tr>\n",
              "      <th>34</th>\n",
              "      <td>4</td>\n",
              "      <td>4</td>\n",
              "      <td>37</td>\n",
              "      <td>2</td>\n",
              "      <td>1</td>\n",
              "      <td>4</td>\n",
              "      <td>1</td>\n",
              "      <td>2</td>\n",
              "      <td>35</td>\n",
              "      <td>4</td>\n",
              "      <td>6</td>\n",
              "      <td>4</td>\n",
              "      <td>0</td>\n",
              "    </tr>\n",
              "  </tbody>\n",
              "</table>\n",
              "</div>\n",
              "      <button class=\"colab-df-convert\" onclick=\"convertToInteractive('df-404a00ff-fc64-4794-8483-efcbf0a2c61d')\"\n",
              "              title=\"Convert this dataframe to an interactive table.\"\n",
              "              style=\"display:none;\">\n",
              "        \n",
              "  <svg xmlns=\"http://www.w3.org/2000/svg\" height=\"24px\"viewBox=\"0 0 24 24\"\n",
              "       width=\"24px\">\n",
              "    <path d=\"M0 0h24v24H0V0z\" fill=\"none\"/>\n",
              "    <path d=\"M18.56 5.44l.94 2.06.94-2.06 2.06-.94-2.06-.94-.94-2.06-.94 2.06-2.06.94zm-11 1L8.5 8.5l.94-2.06 2.06-.94-2.06-.94L8.5 2.5l-.94 2.06-2.06.94zm10 10l.94 2.06.94-2.06 2.06-.94-2.06-.94-.94-2.06-.94 2.06-2.06.94z\"/><path d=\"M17.41 7.96l-1.37-1.37c-.4-.4-.92-.59-1.43-.59-.52 0-1.04.2-1.43.59L10.3 9.45l-7.72 7.72c-.78.78-.78 2.05 0 2.83L4 21.41c.39.39.9.59 1.41.59.51 0 1.02-.2 1.41-.59l7.78-7.78 2.81-2.81c.8-.78.8-2.07 0-2.86zM5.41 20L4 18.59l7.72-7.72 1.47 1.35L5.41 20z\"/>\n",
              "  </svg>\n",
              "      </button>\n",
              "      \n",
              "  <style>\n",
              "    .colab-df-container {\n",
              "      display:flex;\n",
              "      flex-wrap:wrap;\n",
              "      gap: 12px;\n",
              "    }\n",
              "\n",
              "    .colab-df-convert {\n",
              "      background-color: #E8F0FE;\n",
              "      border: none;\n",
              "      border-radius: 50%;\n",
              "      cursor: pointer;\n",
              "      display: none;\n",
              "      fill: #1967D2;\n",
              "      height: 32px;\n",
              "      padding: 0 0 0 0;\n",
              "      width: 32px;\n",
              "    }\n",
              "\n",
              "    .colab-df-convert:hover {\n",
              "      background-color: #E2EBFA;\n",
              "      box-shadow: 0px 1px 2px rgba(60, 64, 67, 0.3), 0px 1px 3px 1px rgba(60, 64, 67, 0.15);\n",
              "      fill: #174EA6;\n",
              "    }\n",
              "\n",
              "    [theme=dark] .colab-df-convert {\n",
              "      background-color: #3B4455;\n",
              "      fill: #D2E3FC;\n",
              "    }\n",
              "\n",
              "    [theme=dark] .colab-df-convert:hover {\n",
              "      background-color: #434B5C;\n",
              "      box-shadow: 0px 1px 3px 1px rgba(0, 0, 0, 0.15);\n",
              "      filter: drop-shadow(0px 1px 2px rgba(0, 0, 0, 0.3));\n",
              "      fill: #FFFFFF;\n",
              "    }\n",
              "  </style>\n",
              "\n",
              "      <script>\n",
              "        const buttonEl =\n",
              "          document.querySelector('#df-404a00ff-fc64-4794-8483-efcbf0a2c61d button.colab-df-convert');\n",
              "        buttonEl.style.display =\n",
              "          google.colab.kernel.accessAllowed ? 'block' : 'none';\n",
              "\n",
              "        async function convertToInteractive(key) {\n",
              "          const element = document.querySelector('#df-404a00ff-fc64-4794-8483-efcbf0a2c61d');\n",
              "          const dataTable =\n",
              "            await google.colab.kernel.invokeFunction('convertToInteractive',\n",
              "                                                     [key], {});\n",
              "          if (!dataTable) return;\n",
              "\n",
              "          const docLinkHtml = 'Like what you see? Visit the ' +\n",
              "            '<a target=\"_blank\" href=https://colab.research.google.com/notebooks/data_table.ipynb>data table notebook</a>'\n",
              "            + ' to learn more about interactive tables.';\n",
              "          element.innerHTML = '';\n",
              "          dataTable['output_type'] = 'display_data';\n",
              "          await google.colab.output.renderOutput(dataTable, element);\n",
              "          const docLink = document.createElement('div');\n",
              "          docLink.innerHTML = docLinkHtml;\n",
              "          element.appendChild(docLink);\n",
              "        }\n",
              "      </script>\n",
              "    </div>\n",
              "  </div>\n",
              "  "
            ]
          },
          "metadata": {},
          "execution_count": 50
        }
      ]
    },
    {
      "cell_type": "code",
      "source": [
        "actual_label = data_train['label']\n",
        "data_train.drop(['label'], axis=1, inplace=True)"
      ],
      "metadata": {
        "id": "BTW8OQA7MxDN"
      },
      "execution_count": 51,
      "outputs": []
    },
    {
      "cell_type": "code",
      "source": [
        "data_train.info()"
      ],
      "metadata": {
        "colab": {
          "base_uri": "https://localhost:8080/"
        },
        "id": "sYkWxyxNhZEZ",
        "outputId": "ff39d0f0-8e13-4b1c-89c0-76c199eb4fce"
      },
      "execution_count": 52,
      "outputs": [
        {
          "output_type": "stream",
          "name": "stdout",
          "text": [
            "<class 'pandas.core.frame.DataFrame'>\n",
            "Int64Index: 94462 entries, 58 to 65\n",
            "Data columns (total 12 columns):\n",
            " #   Column                                   Non-Null Count  Dtype\n",
            "---  ------                                   --------------  -----\n",
            " 0   class of worker                          94462 non-null  int64\n",
            " 1   detailed industry recode                 94462 non-null  int64\n",
            " 2   detailed occupation recode               94462 non-null  int64\n",
            " 3   education                                94462 non-null  int64\n",
            " 4   marital stat                             94462 non-null  int64\n",
            " 5   race                                     94462 non-null  int64\n",
            " 6   sex                                      94462 non-null  int64\n",
            " 7   tax filer stat                           94462 non-null  int64\n",
            " 8   state of previous residence              94462 non-null  int64\n",
            " 9   detailed household summary in household  94462 non-null  int64\n",
            " 10  num persons worked for employer          94462 non-null  int64\n",
            " 11  citizenship                              94462 non-null  int64\n",
            "dtypes: int64(12)\n",
            "memory usage: 9.4 MB\n"
          ]
        }
      ]
    },
    {
      "cell_type": "markdown",
      "source": [
        "#Data Scaling"
      ],
      "metadata": {
        "id": "AoFf1QehmYEA"
      }
    },
    {
      "cell_type": "code",
      "source": [
        "data_scaled = data_train.copy(deep=True)\n",
        "# df_final = df1.copy()\n",
        "scaler = StandardScaler()\n",
        "for i in data_scaled.select_dtypes(exclude='object').columns:\n",
        "    data_scaled.loc[:, i] = StandardScaler().fit_transform(np.array(data_scaled[[i]]))\n",
        "\n",
        "# data_scaled = pd.DataFrame(scaler.fit_transform(data_new), columns = data_new.columns)\n",
        "data_scaled.head()"
      ],
      "metadata": {
        "colab": {
          "base_uri": "https://localhost:8080/",
          "height": 302
        },
        "id": "6HlLV_11_Fb9",
        "outputId": "cc460ee2-eb16-4f53-94ec-d260a480ace0"
      },
      "execution_count": 53,
      "outputs": [
        {
          "output_type": "execute_result",
          "data": {
            "text/plain": [
              "    class of worker  detailed industry recode  detailed occupation recode  \\\n",
              "58         2.270707                 -0.627534                    1.553167   \n",
              "9         -0.439440                 -0.849525                   -0.786795   \n",
              "10        -0.439440                 -0.849525                   -0.786795   \n",
              "42         0.463942                  1.037393                   -0.580328   \n",
              "34         0.463942                 -0.627534                    1.759634   \n",
              "\n",
              "    education  marital stat      race       sex  tax filer stat  \\\n",
              "58   0.525364     -0.870024  0.396755  1.041490       -2.328004   \n",
              "9   -1.459237     -0.870024  0.396755 -0.960163        0.566950   \n",
              "10  -1.459237     -0.870024  0.396755 -0.960163        0.566950   \n",
              "42   1.517664      1.149393  0.396755  1.041490       -0.880527   \n",
              "34   0.525364      1.149393  0.396755  1.041490       -0.880527   \n",
              "\n",
              "    state of previous residence  detailed household summary in household  \\\n",
              "58                    -4.001985                                 0.025790   \n",
              "9                      0.250920                                -0.936354   \n",
              "10                     0.250920                                -0.936354   \n",
              "42                     0.250920                                 0.025790   \n",
              "34                     0.250920                                 0.025790   \n",
              "\n",
              "    num persons worked for employer  citizenship  \n",
              "58                        -0.393833     0.311299  \n",
              "9                         -0.822475     0.311299  \n",
              "10                        -0.822475     0.311299  \n",
              "42                         1.749376     0.311299  \n",
              "34                         1.749376     0.311299  "
            ],
            "text/html": [
              "\n",
              "  <div id=\"df-e6a5da4f-0bf4-4eff-922c-7a48ec631a41\">\n",
              "    <div class=\"colab-df-container\">\n",
              "      <div>\n",
              "<style scoped>\n",
              "    .dataframe tbody tr th:only-of-type {\n",
              "        vertical-align: middle;\n",
              "    }\n",
              "\n",
              "    .dataframe tbody tr th {\n",
              "        vertical-align: top;\n",
              "    }\n",
              "\n",
              "    .dataframe thead th {\n",
              "        text-align: right;\n",
              "    }\n",
              "</style>\n",
              "<table border=\"1\" class=\"dataframe\">\n",
              "  <thead>\n",
              "    <tr style=\"text-align: right;\">\n",
              "      <th></th>\n",
              "      <th>class of worker</th>\n",
              "      <th>detailed industry recode</th>\n",
              "      <th>detailed occupation recode</th>\n",
              "      <th>education</th>\n",
              "      <th>marital stat</th>\n",
              "      <th>race</th>\n",
              "      <th>sex</th>\n",
              "      <th>tax filer stat</th>\n",
              "      <th>state of previous residence</th>\n",
              "      <th>detailed household summary in household</th>\n",
              "      <th>num persons worked for employer</th>\n",
              "      <th>citizenship</th>\n",
              "    </tr>\n",
              "  </thead>\n",
              "  <tbody>\n",
              "    <tr>\n",
              "      <th>58</th>\n",
              "      <td>2.270707</td>\n",
              "      <td>-0.627534</td>\n",
              "      <td>1.553167</td>\n",
              "      <td>0.525364</td>\n",
              "      <td>-0.870024</td>\n",
              "      <td>0.396755</td>\n",
              "      <td>1.041490</td>\n",
              "      <td>-2.328004</td>\n",
              "      <td>-4.001985</td>\n",
              "      <td>0.025790</td>\n",
              "      <td>-0.393833</td>\n",
              "      <td>0.311299</td>\n",
              "    </tr>\n",
              "    <tr>\n",
              "      <th>9</th>\n",
              "      <td>-0.439440</td>\n",
              "      <td>-0.849525</td>\n",
              "      <td>-0.786795</td>\n",
              "      <td>-1.459237</td>\n",
              "      <td>-0.870024</td>\n",
              "      <td>0.396755</td>\n",
              "      <td>-0.960163</td>\n",
              "      <td>0.566950</td>\n",
              "      <td>0.250920</td>\n",
              "      <td>-0.936354</td>\n",
              "      <td>-0.822475</td>\n",
              "      <td>0.311299</td>\n",
              "    </tr>\n",
              "    <tr>\n",
              "      <th>10</th>\n",
              "      <td>-0.439440</td>\n",
              "      <td>-0.849525</td>\n",
              "      <td>-0.786795</td>\n",
              "      <td>-1.459237</td>\n",
              "      <td>-0.870024</td>\n",
              "      <td>0.396755</td>\n",
              "      <td>-0.960163</td>\n",
              "      <td>0.566950</td>\n",
              "      <td>0.250920</td>\n",
              "      <td>-0.936354</td>\n",
              "      <td>-0.822475</td>\n",
              "      <td>0.311299</td>\n",
              "    </tr>\n",
              "    <tr>\n",
              "      <th>42</th>\n",
              "      <td>0.463942</td>\n",
              "      <td>1.037393</td>\n",
              "      <td>-0.580328</td>\n",
              "      <td>1.517664</td>\n",
              "      <td>1.149393</td>\n",
              "      <td>0.396755</td>\n",
              "      <td>1.041490</td>\n",
              "      <td>-0.880527</td>\n",
              "      <td>0.250920</td>\n",
              "      <td>0.025790</td>\n",
              "      <td>1.749376</td>\n",
              "      <td>0.311299</td>\n",
              "    </tr>\n",
              "    <tr>\n",
              "      <th>34</th>\n",
              "      <td>0.463942</td>\n",
              "      <td>-0.627534</td>\n",
              "      <td>1.759634</td>\n",
              "      <td>0.525364</td>\n",
              "      <td>1.149393</td>\n",
              "      <td>0.396755</td>\n",
              "      <td>1.041490</td>\n",
              "      <td>-0.880527</td>\n",
              "      <td>0.250920</td>\n",
              "      <td>0.025790</td>\n",
              "      <td>1.749376</td>\n",
              "      <td>0.311299</td>\n",
              "    </tr>\n",
              "  </tbody>\n",
              "</table>\n",
              "</div>\n",
              "      <button class=\"colab-df-convert\" onclick=\"convertToInteractive('df-e6a5da4f-0bf4-4eff-922c-7a48ec631a41')\"\n",
              "              title=\"Convert this dataframe to an interactive table.\"\n",
              "              style=\"display:none;\">\n",
              "        \n",
              "  <svg xmlns=\"http://www.w3.org/2000/svg\" height=\"24px\"viewBox=\"0 0 24 24\"\n",
              "       width=\"24px\">\n",
              "    <path d=\"M0 0h24v24H0V0z\" fill=\"none\"/>\n",
              "    <path d=\"M18.56 5.44l.94 2.06.94-2.06 2.06-.94-2.06-.94-.94-2.06-.94 2.06-2.06.94zm-11 1L8.5 8.5l.94-2.06 2.06-.94-2.06-.94L8.5 2.5l-.94 2.06-2.06.94zm10 10l.94 2.06.94-2.06 2.06-.94-2.06-.94-.94-2.06-.94 2.06-2.06.94z\"/><path d=\"M17.41 7.96l-1.37-1.37c-.4-.4-.92-.59-1.43-.59-.52 0-1.04.2-1.43.59L10.3 9.45l-7.72 7.72c-.78.78-.78 2.05 0 2.83L4 21.41c.39.39.9.59 1.41.59.51 0 1.02-.2 1.41-.59l7.78-7.78 2.81-2.81c.8-.78.8-2.07 0-2.86zM5.41 20L4 18.59l7.72-7.72 1.47 1.35L5.41 20z\"/>\n",
              "  </svg>\n",
              "      </button>\n",
              "      \n",
              "  <style>\n",
              "    .colab-df-container {\n",
              "      display:flex;\n",
              "      flex-wrap:wrap;\n",
              "      gap: 12px;\n",
              "    }\n",
              "\n",
              "    .colab-df-convert {\n",
              "      background-color: #E8F0FE;\n",
              "      border: none;\n",
              "      border-radius: 50%;\n",
              "      cursor: pointer;\n",
              "      display: none;\n",
              "      fill: #1967D2;\n",
              "      height: 32px;\n",
              "      padding: 0 0 0 0;\n",
              "      width: 32px;\n",
              "    }\n",
              "\n",
              "    .colab-df-convert:hover {\n",
              "      background-color: #E2EBFA;\n",
              "      box-shadow: 0px 1px 2px rgba(60, 64, 67, 0.3), 0px 1px 3px 1px rgba(60, 64, 67, 0.15);\n",
              "      fill: #174EA6;\n",
              "    }\n",
              "\n",
              "    [theme=dark] .colab-df-convert {\n",
              "      background-color: #3B4455;\n",
              "      fill: #D2E3FC;\n",
              "    }\n",
              "\n",
              "    [theme=dark] .colab-df-convert:hover {\n",
              "      background-color: #434B5C;\n",
              "      box-shadow: 0px 1px 3px 1px rgba(0, 0, 0, 0.15);\n",
              "      filter: drop-shadow(0px 1px 2px rgba(0, 0, 0, 0.3));\n",
              "      fill: #FFFFFF;\n",
              "    }\n",
              "  </style>\n",
              "\n",
              "      <script>\n",
              "        const buttonEl =\n",
              "          document.querySelector('#df-e6a5da4f-0bf4-4eff-922c-7a48ec631a41 button.colab-df-convert');\n",
              "        buttonEl.style.display =\n",
              "          google.colab.kernel.accessAllowed ? 'block' : 'none';\n",
              "\n",
              "        async function convertToInteractive(key) {\n",
              "          const element = document.querySelector('#df-e6a5da4f-0bf4-4eff-922c-7a48ec631a41');\n",
              "          const dataTable =\n",
              "            await google.colab.kernel.invokeFunction('convertToInteractive',\n",
              "                                                     [key], {});\n",
              "          if (!dataTable) return;\n",
              "\n",
              "          const docLinkHtml = 'Like what you see? Visit the ' +\n",
              "            '<a target=\"_blank\" href=https://colab.research.google.com/notebooks/data_table.ipynb>data table notebook</a>'\n",
              "            + ' to learn more about interactive tables.';\n",
              "          element.innerHTML = '';\n",
              "          dataTable['output_type'] = 'display_data';\n",
              "          await google.colab.output.renderOutput(dataTable, element);\n",
              "          const docLink = document.createElement('div');\n",
              "          docLink.innerHTML = docLinkHtml;\n",
              "          element.appendChild(docLink);\n",
              "        }\n",
              "      </script>\n",
              "    </div>\n",
              "  </div>\n",
              "  "
            ]
          },
          "metadata": {},
          "execution_count": 53
        }
      ]
    },
    {
      "cell_type": "markdown",
      "source": [
        "#Elbow Method"
      ],
      "metadata": {
        "id": "DtLXO6_xmbke"
      }
    },
    {
      "cell_type": "code",
      "source": [
        "wcss = []\n",
        "for k in range(1,11):\n",
        "    kmeans = KMeans(n_clusters=k, init=\"k-means++\")\n",
        "    kmeans.fit(data_scaled)\n",
        "    wcss.append(kmeans.inertia_)\n",
        "plt.figure(figsize=(12,6))    \n",
        "plt.grid()\n",
        "plt.plot(range(1,11),wcss, linewidth=2, color=\"red\", marker =\"8\")\n",
        "plt.xlabel(\"K Value\")\n",
        "plt.xticks(np.arange(1,11,1))\n",
        "plt.ylabel(\"WCSS\")\n",
        "plt.show()"
      ],
      "metadata": {
        "colab": {
          "base_uri": "https://localhost:8080/",
          "height": 399
        },
        "id": "xXOkbaaY_tbW",
        "outputId": "a5134703-2743-41e4-9654-70095bbda367"
      },
      "execution_count": 55,
      "outputs": [
        {
          "output_type": "display_data",
          "data": {
            "text/plain": [
              "<Figure size 864x432 with 1 Axes>"
            ],
            "image/png": "[encoded data removed]"
          },
          "metadata": {
            "needs_background": "light"
          }
        }
      ]
    },
    {
      "cell_type": "code",
      "source": [
        "data_train.head()"
      ],
      "metadata": {
        "colab": {
          "base_uri": "https://localhost:8080/",
          "height": 285
        },
        "id": "VBlOyyJOh5HX",
        "outputId": "81103b60-488d-487c-d60c-1a799bf64f13"
      },
      "execution_count": 56,
      "outputs": [
        {
          "output_type": "execute_result",
          "data": {
            "text/plain": [
              "    class of worker  detailed industry recode  detailed occupation recode  \\\n",
              "58                6                         4                          34   \n",
              "9                 3                         0                           0   \n",
              "10                3                         0                           0   \n",
              "42                4                        34                           3   \n",
              "34                4                         4                          37   \n",
              "\n",
              "    education  marital stat  race  sex  tax filer stat  \\\n",
              "58          2             0     4    1               0   \n",
              "9           0             0     4    0               4   \n",
              "10          0             0     4    0               4   \n",
              "42          3             1     4    1               2   \n",
              "34          2             1     4    1               2   \n",
              "\n",
              "    state of previous residence  detailed household summary in household  \\\n",
              "58                            4                                        4   \n",
              "9                            35                                        2   \n",
              "10                           35                                        2   \n",
              "42                           35                                        4   \n",
              "34                           35                                        4   \n",
              "\n",
              "    num persons worked for employer  citizenship  \n",
              "58                                1            4  \n",
              "9                                 0            4  \n",
              "10                                0            4  \n",
              "42                                6            4  \n",
              "34                                6            4  "
            ],
            "text/html": [
              "\n",
              "  <div id=\"df-7a5f63c7-864c-4b73-b097-663662d456ca\">\n",
              "    <div class=\"colab-df-container\">\n",
              "      <div>\n",
              "<style scoped>\n",
              "    .dataframe tbody tr th:only-of-type {\n",
              "        vertical-align: middle;\n",
              "    }\n",
              "\n",
              "    .dataframe tbody tr th {\n",
              "        vertical-align: top;\n",
              "    }\n",
              "\n",
              "    .dataframe thead th {\n",
              "        text-align: right;\n",
              "    }\n",
              "</style>\n",
              "<table border=\"1\" class=\"dataframe\">\n",
              "  <thead>\n",
              "    <tr style=\"text-align: right;\">\n",
              "      <th></th>\n",
              "      <th>class of worker</th>\n",
              "      <th>detailed industry recode</th>\n",
              "      <th>detailed occupation recode</th>\n",
              "      <th>education</th>\n",
              "      <th>marital stat</th>\n",
              "      <th>race</th>\n",
              "      <th>sex</th>\n",
              "      <th>tax filer stat</th>\n",
              "      <th>state of previous residence</th>\n",
              "      <th>detailed household summary in household</th>\n",
              "      <th>num persons worked for employer</th>\n",
              "      <th>citizenship</th>\n",
              "    </tr>\n",
              "  </thead>\n",
              "  <tbody>\n",
              "    <tr>\n",
              "      <th>58</th>\n",
              "      <td>6</td>\n",
              "      <td>4</td>\n",
              "      <td>34</td>\n",
              "      <td>2</td>\n",
              "      <td>0</td>\n",
              "      <td>4</td>\n",
              "      <td>1</td>\n",
              "      <td>0</td>\n",
              "      <td>4</td>\n",
              "      <td>4</td>\n",
              "      <td>1</td>\n",
              "      <td>4</td>\n",
              "    </tr>\n",
              "    <tr>\n",
              "      <th>9</th>\n",
              "      <td>3</td>\n",
              "      <td>0</td>\n",
              "      <td>0</td>\n",
              "      <td>0</td>\n",
              "      <td>0</td>\n",
              "      <td>4</td>\n",
              "      <td>0</td>\n",
              "      <td>4</td>\n",
              "      <td>35</td>\n",
              "      <td>2</td>\n",
              "      <td>0</td>\n",
              "      <td>4</td>\n",
              "    </tr>\n",
              "    <tr>\n",
              "      <th>10</th>\n",
              "      <td>3</td>\n",
              "      <td>0</td>\n",
              "      <td>0</td>\n",
              "      <td>0</td>\n",
              "      <td>0</td>\n",
              "      <td>4</td>\n",
              "      <td>0</td>\n",
              "      <td>4</td>\n",
              "      <td>35</td>\n",
              "      <td>2</td>\n",
              "      <td>0</td>\n",
              "      <td>4</td>\n",
              "    </tr>\n",
              "    <tr>\n",
              "      <th>42</th>\n",
              "      <td>4</td>\n",
              "      <td>34</td>\n",
              "      <td>3</td>\n",
              "      <td>3</td>\n",
              "      <td>1</td>\n",
              "      <td>4</td>\n",
              "      <td>1</td>\n",
              "      <td>2</td>\n",
              "      <td>35</td>\n",
              "      <td>4</td>\n",
              "      <td>6</td>\n",
              "      <td>4</td>\n",
              "    </tr>\n",
              "    <tr>\n",
              "      <th>34</th>\n",
              "      <td>4</td>\n",
              "      <td>4</td>\n",
              "      <td>37</td>\n",
              "      <td>2</td>\n",
              "      <td>1</td>\n",
              "      <td>4</td>\n",
              "      <td>1</td>\n",
              "      <td>2</td>\n",
              "      <td>35</td>\n",
              "      <td>4</td>\n",
              "      <td>6</td>\n",
              "      <td>4</td>\n",
              "    </tr>\n",
              "  </tbody>\n",
              "</table>\n",
              "</div>\n",
              "      <button class=\"colab-df-convert\" onclick=\"convertToInteractive('df-7a5f63c7-864c-4b73-b097-663662d456ca')\"\n",
              "              title=\"Convert this dataframe to an interactive table.\"\n",
              "              style=\"display:none;\">\n",
              "        \n",
              "  <svg xmlns=\"http://www.w3.org/2000/svg\" height=\"24px\"viewBox=\"0 0 24 24\"\n",
              "       width=\"24px\">\n",
              "    <path d=\"M0 0h24v24H0V0z\" fill=\"none\"/>\n",
              "    <path d=\"M18.56 5.44l.94 2.06.94-2.06 2.06-.94-2.06-.94-.94-2.06-.94 2.06-2.06.94zm-11 1L8.5 8.5l.94-2.06 2.06-.94-2.06-.94L8.5 2.5l-.94 2.06-2.06.94zm10 10l.94 2.06.94-2.06 2.06-.94-2.06-.94-.94-2.06-.94 2.06-2.06.94z\"/><path d=\"M17.41 7.96l-1.37-1.37c-.4-.4-.92-.59-1.43-.59-.52 0-1.04.2-1.43.59L10.3 9.45l-7.72 7.72c-.78.78-.78 2.05 0 2.83L4 21.41c.39.39.9.59 1.41.59.51 0 1.02-.2 1.41-.59l7.78-7.78 2.81-2.81c.8-.78.8-2.07 0-2.86zM5.41 20L4 18.59l7.72-7.72 1.47 1.35L5.41 20z\"/>\n",
              "  </svg>\n",
              "      </button>\n",
              "      \n",
              "  <style>\n",
              "    .colab-df-container {\n",
              "      display:flex;\n",
              "      flex-wrap:wrap;\n",
              "      gap: 12px;\n",
              "    }\n",
              "\n",
              "    .colab-df-convert {\n",
              "      background-color: #E8F0FE;\n",
              "      border: none;\n",
              "      border-radius: 50%;\n",
              "      cursor: pointer;\n",
              "      display: none;\n",
              "      fill: #1967D2;\n",
              "      height: 32px;\n",
              "      padding: 0 0 0 0;\n",
              "      width: 32px;\n",
              "    }\n",
              "\n",
              "    .colab-df-convert:hover {\n",
              "      background-color: #E2EBFA;\n",
              "      box-shadow: 0px 1px 2px rgba(60, 64, 67, 0.3), 0px 1px 3px 1px rgba(60, 64, 67, 0.15);\n",
              "      fill: #174EA6;\n",
              "    }\n",
              "\n",
              "    [theme=dark] .colab-df-convert {\n",
              "      background-color: #3B4455;\n",
              "      fill: #D2E3FC;\n",
              "    }\n",
              "\n",
              "    [theme=dark] .colab-df-convert:hover {\n",
              "      background-color: #434B5C;\n",
              "      box-shadow: 0px 1px 3px 1px rgba(0, 0, 0, 0.15);\n",
              "      filter: drop-shadow(0px 1px 2px rgba(0, 0, 0, 0.3));\n",
              "      fill: #FFFFFF;\n",
              "    }\n",
              "  </style>\n",
              "\n",
              "      <script>\n",
              "        const buttonEl =\n",
              "          document.querySelector('#df-7a5f63c7-864c-4b73-b097-663662d456ca button.colab-df-convert');\n",
              "        buttonEl.style.display =\n",
              "          google.colab.kernel.accessAllowed ? 'block' : 'none';\n",
              "\n",
              "        async function convertToInteractive(key) {\n",
              "          const element = document.querySelector('#df-7a5f63c7-864c-4b73-b097-663662d456ca');\n",
              "          const dataTable =\n",
              "            await google.colab.kernel.invokeFunction('convertToInteractive',\n",
              "                                                     [key], {});\n",
              "          if (!dataTable) return;\n",
              "\n",
              "          const docLinkHtml = 'Like what you see? Visit the ' +\n",
              "            '<a target=\"_blank\" href=https://colab.research.google.com/notebooks/data_table.ipynb>data table notebook</a>'\n",
              "            + ' to learn more about interactive tables.';\n",
              "          element.innerHTML = '';\n",
              "          dataTable['output_type'] = 'display_data';\n",
              "          await google.colab.output.renderOutput(dataTable, element);\n",
              "          const docLink = document.createElement('div');\n",
              "          docLink.innerHTML = docLinkHtml;\n",
              "          element.appendChild(docLink);\n",
              "        }\n",
              "      </script>\n",
              "    </div>\n",
              "  </div>\n",
              "  "
            ]
          },
          "metadata": {},
          "execution_count": 56
        }
      ]
    },
    {
      "cell_type": "markdown",
      "source": [
        "#K-Means Clustering (n=3)"
      ],
      "metadata": {
        "id": "JFJXlXWOmjuW"
      }
    },
    {
      "cell_type": "code",
      "source": [
        "km = KMeans(n_clusters=3)\n",
        "clusters = km.fit_predict(data_scaled)\n",
        "data_scaled[\"cluster\"] = clusters"
      ],
      "metadata": {
        "id": "JJ1rc2S9HBro"
      },
      "execution_count": 62,
      "outputs": []
    },
    {
      "cell_type": "code",
      "source": [
        "data_new.head()"
      ],
      "metadata": {
        "colab": {
          "base_uri": "https://localhost:8080/",
          "height": 389
        },
        "id": "RAGEATC2HfrM",
        "outputId": "f07b2f53-ec8f-4d22-9f88-a91d8f9078cd"
      },
      "execution_count": 59,
      "outputs": [
        {
          "output_type": "execute_result",
          "data": {
            "text/plain": [
              "                   class of worker  detailed industry recode  \\\n",
              "58  Self-employed-not incorporated                         4   \n",
              "9                  Not in universe                         0   \n",
              "10                 Not in universe                         0   \n",
              "42                         Private                        34   \n",
              "34                         Private                         4   \n",
              "\n",
              "    detailed occupation recode  education  marital stat   race  sex  \\\n",
              "58                          34          2             0  White    1   \n",
              "9                            0          0             0  White    0   \n",
              "10                           0          0             0  White    0   \n",
              "42                           3          3             1  White    1   \n",
              "34                          37          2             1  White    1   \n",
              "\n",
              "         tax filer stat state of previous residence  \\\n",
              "58    Head of household                    Arkansas   \n",
              "9              Nonfiler             Not in universe   \n",
              "10             Nonfiler             Not in universe   \n",
              "42  Joint both under 65             Not in universe   \n",
              "34  Joint both under 65             Not in universe   \n",
              "\n",
              "   detailed household summary in household  num persons worked for employer  \\\n",
              "58                             Householder                                1   \n",
              "9             Child under 18 never married                                0   \n",
              "10            Child under 18 never married                                0   \n",
              "42                             Householder                                6   \n",
              "34                             Householder                                6   \n",
              "\n",
              "                          citizenship  label  \n",
              "58  Native- Born in the United States      0  \n",
              "9   Native- Born in the United States      0  \n",
              "10  Native- Born in the United States      0  \n",
              "42  Native- Born in the United States      0  \n",
              "34  Native- Born in the United States      0  "
            ],
            "text/html": [
              "\n",
              "  <div id=\"df-5cf7df2b-7bf2-4673-812c-0863a7fac7fb\">\n",
              "    <div class=\"colab-df-container\">\n",
              "      <div>\n",
              "<style scoped>\n",
              "    .dataframe tbody tr th:only-of-type {\n",
              "        vertical-align: middle;\n",
              "    }\n",
              "\n",
              "    .dataframe tbody tr th {\n",
              "        vertical-align: top;\n",
              "    }\n",
              "\n",
              "    .dataframe thead th {\n",
              "        text-align: right;\n",
              "    }\n",
              "</style>\n",
              "<table border=\"1\" class=\"dataframe\">\n",
              "  <thead>\n",
              "    <tr style=\"text-align: right;\">\n",
              "      <th></th>\n",
              "      <th>class of worker</th>\n",
              "      <th>detailed industry recode</th>\n",
              "      <th>detailed occupation recode</th>\n",
              "      <th>education</th>\n",
              "      <th>marital stat</th>\n",
              "      <th>race</th>\n",
              "      <th>sex</th>\n",
              "      <th>tax filer stat</th>\n",
              "      <th>state of previous residence</th>\n",
              "      <th>detailed household summary in household</th>\n",
              "      <th>num persons worked for employer</th>\n",
              "      <th>citizenship</th>\n",
              "      <th>label</th>\n",
              "    </tr>\n",
              "  </thead>\n",
              "  <tbody>\n",
              "    <tr>\n",
              "      <th>58</th>\n",
              "      <td>Self-employed-not incorporated</td>\n",
              "      <td>4</td>\n",
              "      <td>34</td>\n",
              "      <td>2</td>\n",
              "      <td>0</td>\n",
              "      <td>White</td>\n",
              "      <td>1</td>\n",
              "      <td>Head of household</td>\n",
              "      <td>Arkansas</td>\n",
              "      <td>Householder</td>\n",
              "      <td>1</td>\n",
              "      <td>Native- Born in the United States</td>\n",
              "      <td>0</td>\n",
              "    </tr>\n",
              "    <tr>\n",
              "      <th>9</th>\n",
              "      <td>Not in universe</td>\n",
              "      <td>0</td>\n",
              "      <td>0</td>\n",
              "      <td>0</td>\n",
              "      <td>0</td>\n",
              "      <td>White</td>\n",
              "      <td>0</td>\n",
              "      <td>Nonfiler</td>\n",
              "      <td>Not in universe</td>\n",
              "      <td>Child under 18 never married</td>\n",
              "      <td>0</td>\n",
              "      <td>Native- Born in the United States</td>\n",
              "      <td>0</td>\n",
              "    </tr>\n",
              "    <tr>\n",
              "      <th>10</th>\n",
              "      <td>Not in universe</td>\n",
              "      <td>0</td>\n",
              "      <td>0</td>\n",
              "      <td>0</td>\n",
              "      <td>0</td>\n",
              "      <td>White</td>\n",
              "      <td>0</td>\n",
              "      <td>Nonfiler</td>\n",
              "      <td>Not in universe</td>\n",
              "      <td>Child under 18 never married</td>\n",
              "      <td>0</td>\n",
              "      <td>Native- Born in the United States</td>\n",
              "      <td>0</td>\n",
              "    </tr>\n",
              "    <tr>\n",
              "      <th>42</th>\n",
              "      <td>Private</td>\n",
              "      <td>34</td>\n",
              "      <td>3</td>\n",
              "      <td>3</td>\n",
              "      <td>1</td>\n",
              "      <td>White</td>\n",
              "      <td>1</td>\n",
              "      <td>Joint both under 65</td>\n",
              "      <td>Not in universe</td>\n",
              "      <td>Householder</td>\n",
              "      <td>6</td>\n",
              "      <td>Native- Born in the United States</td>\n",
              "      <td>0</td>\n",
              "    </tr>\n",
              "    <tr>\n",
              "      <th>34</th>\n",
              "      <td>Private</td>\n",
              "      <td>4</td>\n",
              "      <td>37</td>\n",
              "      <td>2</td>\n",
              "      <td>1</td>\n",
              "      <td>White</td>\n",
              "      <td>1</td>\n",
              "      <td>Joint both under 65</td>\n",
              "      <td>Not in universe</td>\n",
              "      <td>Householder</td>\n",
              "      <td>6</td>\n",
              "      <td>Native- Born in the United States</td>\n",
              "      <td>0</td>\n",
              "    </tr>\n",
              "  </tbody>\n",
              "</table>\n",
              "</div>\n",
              "      <button class=\"colab-df-convert\" onclick=\"convertToInteractive('df-5cf7df2b-7bf2-4673-812c-0863a7fac7fb')\"\n",
              "              title=\"Convert this dataframe to an interactive table.\"\n",
              "              style=\"display:none;\">\n",
              "        \n",
              "  <svg xmlns=\"http://www.w3.org/2000/svg\" height=\"24px\"viewBox=\"0 0 24 24\"\n",
              "       width=\"24px\">\n",
              "    <path d=\"M0 0h24v24H0V0z\" fill=\"none\"/>\n",
              "    <path d=\"M18.56 5.44l.94 2.06.94-2.06 2.06-.94-2.06-.94-.94-2.06-.94 2.06-2.06.94zm-11 1L8.5 8.5l.94-2.06 2.06-.94-2.06-.94L8.5 2.5l-.94 2.06-2.06.94zm10 10l.94 2.06.94-2.06 2.06-.94-2.06-.94-.94-2.06-.94 2.06-2.06.94z\"/><path d=\"M17.41 7.96l-1.37-1.37c-.4-.4-.92-.59-1.43-.59-.52 0-1.04.2-1.43.59L10.3 9.45l-7.72 7.72c-.78.78-.78 2.05 0 2.83L4 21.41c.39.39.9.59 1.41.59.51 0 1.02-.2 1.41-.59l7.78-7.78 2.81-2.81c.8-.78.8-2.07 0-2.86zM5.41 20L4 18.59l7.72-7.72 1.47 1.35L5.41 20z\"/>\n",
              "  </svg>\n",
              "      </button>\n",
              "      \n",
              "  <style>\n",
              "    .colab-df-container {\n",
              "      display:flex;\n",
              "      flex-wrap:wrap;\n",
              "      gap: 12px;\n",
              "    }\n",
              "\n",
              "    .colab-df-convert {\n",
              "      background-color: #E8F0FE;\n",
              "      border: none;\n",
              "      border-radius: 50%;\n",
              "      cursor: pointer;\n",
              "      display: none;\n",
              "      fill: #1967D2;\n",
              "      height: 32px;\n",
              "      padding: 0 0 0 0;\n",
              "      width: 32px;\n",
              "    }\n",
              "\n",
              "    .colab-df-convert:hover {\n",
              "      background-color: #E2EBFA;\n",
              "      box-shadow: 0px 1px 2px rgba(60, 64, 67, 0.3), 0px 1px 3px 1px rgba(60, 64, 67, 0.15);\n",
              "      fill: #174EA6;\n",
              "    }\n",
              "\n",
              "    [theme=dark] .colab-df-convert {\n",
              "      background-color: #3B4455;\n",
              "      fill: #D2E3FC;\n",
              "    }\n",
              "\n",
              "    [theme=dark] .colab-df-convert:hover {\n",
              "      background-color: #434B5C;\n",
              "      box-shadow: 0px 1px 3px 1px rgba(0, 0, 0, 0.15);\n",
              "      filter: drop-shadow(0px 1px 2px rgba(0, 0, 0, 0.3));\n",
              "      fill: #FFFFFF;\n",
              "    }\n",
              "  </style>\n",
              "\n",
              "      <script>\n",
              "        const buttonEl =\n",
              "          document.querySelector('#df-5cf7df2b-7bf2-4673-812c-0863a7fac7fb button.colab-df-convert');\n",
              "        buttonEl.style.display =\n",
              "          google.colab.kernel.accessAllowed ? 'block' : 'none';\n",
              "\n",
              "        async function convertToInteractive(key) {\n",
              "          const element = document.querySelector('#df-5cf7df2b-7bf2-4673-812c-0863a7fac7fb');\n",
              "          const dataTable =\n",
              "            await google.colab.kernel.invokeFunction('convertToInteractive',\n",
              "                                                     [key], {});\n",
              "          if (!dataTable) return;\n",
              "\n",
              "          const docLinkHtml = 'Like what you see? Visit the ' +\n",
              "            '<a target=\"_blank\" href=https://colab.research.google.com/notebooks/data_table.ipynb>data table notebook</a>'\n",
              "            + ' to learn more about interactive tables.';\n",
              "          element.innerHTML = '';\n",
              "          dataTable['output_type'] = 'display_data';\n",
              "          await google.colab.output.renderOutput(dataTable, element);\n",
              "          const docLink = document.createElement('div');\n",
              "          docLink.innerHTML = docLinkHtml;\n",
              "          element.appendChild(docLink);\n",
              "        }\n",
              "      </script>\n",
              "    </div>\n",
              "  </div>\n",
              "  "
            ]
          },
          "metadata": {},
          "execution_count": 59
        }
      ]
    },
    {
      "cell_type": "code",
      "source": [
        "data_new.info()"
      ],
      "metadata": {
        "colab": {
          "base_uri": "https://localhost:8080/"
        },
        "id": "HV_nyptvshZm",
        "outputId": "163425ca-7228-49ec-eae8-54f339c79f5a"
      },
      "execution_count": 60,
      "outputs": [
        {
          "output_type": "stream",
          "name": "stdout",
          "text": [
            "<class 'pandas.core.frame.DataFrame'>\n",
            "Int64Index: 94462 entries, 58 to 65\n",
            "Data columns (total 13 columns):\n",
            " #   Column                                   Non-Null Count  Dtype \n",
            "---  ------                                   --------------  ----- \n",
            " 0   class of worker                          94462 non-null  object\n",
            " 1   detailed industry recode                 94462 non-null  int64 \n",
            " 2   detailed occupation recode               94462 non-null  int64 \n",
            " 3   education                                94462 non-null  int64 \n",
            " 4   marital stat                             94462 non-null  int64 \n",
            " 5   race                                     94462 non-null  object\n",
            " 6   sex                                      94462 non-null  int64 \n",
            " 7   tax filer stat                           94462 non-null  object\n",
            " 8   state of previous residence              94462 non-null  object\n",
            " 9   detailed household summary in household  94462 non-null  object\n",
            " 10  num persons worked for employer          94462 non-null  int64 \n",
            " 11  citizenship                              94462 non-null  object\n",
            " 12  label                                    94462 non-null  int64 \n",
            "dtypes: int64(7), object(6)\n",
            "memory usage: 10.1+ MB\n"
          ]
        }
      ]
    },
    {
      "cell_type": "code",
      "source": [
        "data_new[\"cluster\"] = clusters"
      ],
      "metadata": {
        "id": "tZgIkiPGtiI1"
      },
      "execution_count": 65,
      "outputs": []
    },
    {
      "cell_type": "code",
      "source": [
        "data_new.head()"
      ],
      "metadata": {
        "colab": {
          "base_uri": "https://localhost:8080/",
          "height": 462
        },
        "id": "8njK6CpoJzEQ",
        "outputId": "0408e819-0ac0-46aa-ee65-85d51b875612"
      },
      "execution_count": 66,
      "outputs": [
        {
          "output_type": "execute_result",
          "data": {
            "text/plain": [
              "                   class of worker  detailed industry recode  \\\n",
              "58  Self-employed-not incorporated                         4   \n",
              "9                  Not in universe                         0   \n",
              "10                 Not in universe                         0   \n",
              "42                         Private                        34   \n",
              "34                         Private                         4   \n",
              "\n",
              "    detailed occupation recode  education  marital stat   race  sex  \\\n",
              "58                          34          2             0  White    1   \n",
              "9                            0          0             0  White    0   \n",
              "10                           0          0             0  White    0   \n",
              "42                           3          3             1  White    1   \n",
              "34                          37          2             1  White    1   \n",
              "\n",
              "         tax filer stat state of previous residence  \\\n",
              "58    Head of household                    Arkansas   \n",
              "9              Nonfiler             Not in universe   \n",
              "10             Nonfiler             Not in universe   \n",
              "42  Joint both under 65             Not in universe   \n",
              "34  Joint both under 65             Not in universe   \n",
              "\n",
              "   detailed household summary in household  num persons worked for employer  \\\n",
              "58                             Householder                                1   \n",
              "9             Child under 18 never married                                0   \n",
              "10            Child under 18 never married                                0   \n",
              "42                             Householder                                6   \n",
              "34                             Householder                                6   \n",
              "\n",
              "                          citizenship  label  cluster  \n",
              "58  Native- Born in the United States      0        2  \n",
              "9   Native- Born in the United States      0        1  \n",
              "10  Native- Born in the United States      0        1  \n",
              "42  Native- Born in the United States      0        2  \n",
              "34  Native- Born in the United States      0        2  "
            ],
            "text/html": [
              "\n",
              "  <div id=\"df-250b6254-ec7f-490e-bf4f-17df56a3cced\">\n",
              "    <div class=\"colab-df-container\">\n",
              "      <div>\n",
              "<style scoped>\n",
              "    .dataframe tbody tr th:only-of-type {\n",
              "        vertical-align: middle;\n",
              "    }\n",
              "\n",
              "    .dataframe tbody tr th {\n",
              "        vertical-align: top;\n",
              "    }\n",
              "\n",
              "    .dataframe thead th {\n",
              "        text-align: right;\n",
              "    }\n",
              "</style>\n",
              "<table border=\"1\" class=\"dataframe\">\n",
              "  <thead>\n",
              "    <tr style=\"text-align: right;\">\n",
              "      <th></th>\n",
              "      <th>class of worker</th>\n",
              "      <th>detailed industry recode</th>\n",
              "      <th>detailed occupation recode</th>\n",
              "      <th>education</th>\n",
              "      <th>marital stat</th>\n",
              "      <th>race</th>\n",
              "      <th>sex</th>\n",
              "      <th>tax filer stat</th>\n",
              "      <th>state of previous residence</th>\n",
              "      <th>detailed household summary in household</th>\n",
              "      <th>num persons worked for employer</th>\n",
              "      <th>citizenship</th>\n",
              "      <th>label</th>\n",
              "      <th>cluster</th>\n",
              "    </tr>\n",
              "  </thead>\n",
              "  <tbody>\n",
              "    <tr>\n",
              "      <th>58</th>\n",
              "      <td>Self-employed-not incorporated</td>\n",
              "      <td>4</td>\n",
              "      <td>34</td>\n",
              "      <td>2</td>\n",
              "      <td>0</td>\n",
              "      <td>White</td>\n",
              "      <td>1</td>\n",
              "      <td>Head of household</td>\n",
              "      <td>Arkansas</td>\n",
              "      <td>Householder</td>\n",
              "      <td>1</td>\n",
              "      <td>Native- Born in the United States</td>\n",
              "      <td>0</td>\n",
              "      <td>2</td>\n",
              "    </tr>\n",
              "    <tr>\n",
              "      <th>9</th>\n",
              "      <td>Not in universe</td>\n",
              "      <td>0</td>\n",
              "      <td>0</td>\n",
              "      <td>0</td>\n",
              "      <td>0</td>\n",
              "      <td>White</td>\n",
              "      <td>0</td>\n",
              "      <td>Nonfiler</td>\n",
              "      <td>Not in universe</td>\n",
              "      <td>Child under 18 never married</td>\n",
              "      <td>0</td>\n",
              "      <td>Native- Born in the United States</td>\n",
              "      <td>0</td>\n",
              "      <td>1</td>\n",
              "    </tr>\n",
              "    <tr>\n",
              "      <th>10</th>\n",
              "      <td>Not in universe</td>\n",
              "      <td>0</td>\n",
              "      <td>0</td>\n",
              "      <td>0</td>\n",
              "      <td>0</td>\n",
              "      <td>White</td>\n",
              "      <td>0</td>\n",
              "      <td>Nonfiler</td>\n",
              "      <td>Not in universe</td>\n",
              "      <td>Child under 18 never married</td>\n",
              "      <td>0</td>\n",
              "      <td>Native- Born in the United States</td>\n",
              "      <td>0</td>\n",
              "      <td>1</td>\n",
              "    </tr>\n",
              "    <tr>\n",
              "      <th>42</th>\n",
              "      <td>Private</td>\n",
              "      <td>34</td>\n",
              "      <td>3</td>\n",
              "      <td>3</td>\n",
              "      <td>1</td>\n",
              "      <td>White</td>\n",
              "      <td>1</td>\n",
              "      <td>Joint both under 65</td>\n",
              "      <td>Not in universe</td>\n",
              "      <td>Householder</td>\n",
              "      <td>6</td>\n",
              "      <td>Native- Born in the United States</td>\n",
              "      <td>0</td>\n",
              "      <td>2</td>\n",
              "    </tr>\n",
              "    <tr>\n",
              "      <th>34</th>\n",
              "      <td>Private</td>\n",
              "      <td>4</td>\n",
              "      <td>37</td>\n",
              "      <td>2</td>\n",
              "      <td>1</td>\n",
              "      <td>White</td>\n",
              "      <td>1</td>\n",
              "      <td>Joint both under 65</td>\n",
              "      <td>Not in universe</td>\n",
              "      <td>Householder</td>\n",
              "      <td>6</td>\n",
              "      <td>Native- Born in the United States</td>\n",
              "      <td>0</td>\n",
              "      <td>2</td>\n",
              "    </tr>\n",
              "  </tbody>\n",
              "</table>\n",
              "</div>\n",
              "      <button class=\"colab-df-convert\" onclick=\"convertToInteractive('df-250b6254-ec7f-490e-bf4f-17df56a3cced')\"\n",
              "              title=\"Convert this dataframe to an interactive table.\"\n",
              "              style=\"display:none;\">\n",
              "        \n",
              "  <svg xmlns=\"http://www.w3.org/2000/svg\" height=\"24px\"viewBox=\"0 0 24 24\"\n",
              "       width=\"24px\">\n",
              "    <path d=\"M0 0h24v24H0V0z\" fill=\"none\"/>\n",
              "    <path d=\"M18.56 5.44l.94 2.06.94-2.06 2.06-.94-2.06-.94-.94-2.06-.94 2.06-2.06.94zm-11 1L8.5 8.5l.94-2.06 2.06-.94-2.06-.94L8.5 2.5l-.94 2.06-2.06.94zm10 10l.94 2.06.94-2.06 2.06-.94-2.06-.94-.94-2.06-.94 2.06-2.06.94z\"/><path d=\"M17.41 7.96l-1.37-1.37c-.4-.4-.92-.59-1.43-.59-.52 0-1.04.2-1.43.59L10.3 9.45l-7.72 7.72c-.78.78-.78 2.05 0 2.83L4 21.41c.39.39.9.59 1.41.59.51 0 1.02-.2 1.41-.59l7.78-7.78 2.81-2.81c.8-.78.8-2.07 0-2.86zM5.41 20L4 18.59l7.72-7.72 1.47 1.35L5.41 20z\"/>\n",
              "  </svg>\n",
              "      </button>\n",
              "      \n",
              "  <style>\n",
              "    .colab-df-container {\n",
              "      display:flex;\n",
              "      flex-wrap:wrap;\n",
              "      gap: 12px;\n",
              "    }\n",
              "\n",
              "    .colab-df-convert {\n",
              "      background-color: #E8F0FE;\n",
              "      border: none;\n",
              "      border-radius: 50%;\n",
              "      cursor: pointer;\n",
              "      display: none;\n",
              "      fill: #1967D2;\n",
              "      height: 32px;\n",
              "      padding: 0 0 0 0;\n",
              "      width: 32px;\n",
              "    }\n",
              "\n",
              "    .colab-df-convert:hover {\n",
              "      background-color: #E2EBFA;\n",
              "      box-shadow: 0px 1px 2px rgba(60, 64, 67, 0.3), 0px 1px 3px 1px rgba(60, 64, 67, 0.15);\n",
              "      fill: #174EA6;\n",
              "    }\n",
              "\n",
              "    [theme=dark] .colab-df-convert {\n",
              "      background-color: #3B4455;\n",
              "      fill: #D2E3FC;\n",
              "    }\n",
              "\n",
              "    [theme=dark] .colab-df-convert:hover {\n",
              "      background-color: #434B5C;\n",
              "      box-shadow: 0px 1px 3px 1px rgba(0, 0, 0, 0.15);\n",
              "      filter: drop-shadow(0px 1px 2px rgba(0, 0, 0, 0.3));\n",
              "      fill: #FFFFFF;\n",
              "    }\n",
              "  </style>\n",
              "\n",
              "      <script>\n",
              "        const buttonEl =\n",
              "          document.querySelector('#df-250b6254-ec7f-490e-bf4f-17df56a3cced button.colab-df-convert');\n",
              "        buttonEl.style.display =\n",
              "          google.colab.kernel.accessAllowed ? 'block' : 'none';\n",
              "\n",
              "        async function convertToInteractive(key) {\n",
              "          const element = document.querySelector('#df-250b6254-ec7f-490e-bf4f-17df56a3cced');\n",
              "          const dataTable =\n",
              "            await google.colab.kernel.invokeFunction('convertToInteractive',\n",
              "                                                     [key], {});\n",
              "          if (!dataTable) return;\n",
              "\n",
              "          const docLinkHtml = 'Like what you see? Visit the ' +\n",
              "            '<a target=\"_blank\" href=https://colab.research.google.com/notebooks/data_table.ipynb>data table notebook</a>'\n",
              "            + ' to learn more about interactive tables.';\n",
              "          element.innerHTML = '';\n",
              "          dataTable['output_type'] = 'display_data';\n",
              "          await google.colab.output.renderOutput(dataTable, element);\n",
              "          const docLink = document.createElement('div');\n",
              "          docLink.innerHTML = docLinkHtml;\n",
              "          element.appendChild(docLink);\n",
              "        }\n",
              "      </script>\n",
              "    </div>\n",
              "  </div>\n",
              "  "
            ]
          },
          "metadata": {},
          "execution_count": 66
        }
      ]
    },
    {
      "cell_type": "markdown",
      "source": [
        "#Cluster description"
      ],
      "metadata": {
        "id": "-N5w0gwzmpso"
      }
    },
    {
      "cell_type": "code",
      "source": [
        "data_new.loc[data_new['cluster']==0]['label'].value_counts()"
      ],
      "metadata": {
        "colab": {
          "base_uri": "https://localhost:8080/"
        },
        "id": "PqTkQsLnzMNI",
        "outputId": "0d85aa38-1120-43a8-d8f8-db12faadd252"
      },
      "execution_count": 69,
      "outputs": [
        {
          "output_type": "execute_result",
          "data": {
            "text/plain": [
              "0    15245\n",
              "1      863\n",
              "Name: label, dtype: int64"
            ]
          },
          "metadata": {},
          "execution_count": 69
        }
      ]
    },
    {
      "cell_type": "markdown",
      "source": [
        "***Cluster 0 : People with >50000$ : 863***"
      ],
      "metadata": {
        "id": "GilSG_obmuiA"
      }
    },
    {
      "cell_type": "code",
      "source": [
        "data_new.loc[data_new['cluster']==1]['label'].value_counts()\n"
      ],
      "metadata": {
        "colab": {
          "base_uri": "https://localhost:8080/"
        },
        "id": "Qlvc9mkAzdHp",
        "outputId": "5aa15bcd-8641-468f-f394-397a5dd0c8b7"
      },
      "execution_count": 70,
      "outputs": [
        {
          "output_type": "execute_result",
          "data": {
            "text/plain": [
              "0    36484\n",
              "1      113\n",
              "Name: label, dtype: int64"
            ]
          },
          "metadata": {},
          "execution_count": 70
        }
      ]
    },
    {
      "cell_type": "markdown",
      "source": [
        "***Cluster 1 : People with >50000$ : 113***"
      ],
      "metadata": {
        "id": "TY8r3Oxfm8vo"
      }
    },
    {
      "cell_type": "code",
      "source": [
        "data_new.loc[data_new['cluster']==2]['label'].value_counts()\n"
      ],
      "metadata": {
        "colab": {
          "base_uri": "https://localhost:8080/"
        },
        "id": "JNwo3-D0zcm1",
        "outputId": "5ce6782a-78e3-4502-8c08-dfef2af59618"
      },
      "execution_count": 71,
      "outputs": [
        {
          "output_type": "execute_result",
          "data": {
            "text/plain": [
              "0    37291\n",
              "1     4466\n",
              "Name: label, dtype: int64"
            ]
          },
          "metadata": {},
          "execution_count": 71
        }
      ]
    },
    {
      "cell_type": "markdown",
      "source": [
        "***Cluster 2 : People with >50000$ : 4466***"
      ],
      "metadata": {
        "id": "E2sw74b4m-fm"
      }
    },
    {
      "cell_type": "markdown",
      "source": [
        "#Cluster Analysis"
      ],
      "metadata": {
        "id": "lcajWdnpnEcV"
      }
    },
    {
      "cell_type": "code",
      "source": [
        "for i in data_new:\n",
        "    g = sns.FacetGrid(data_new, col=\"cluster\", hue=\"cluster\")\n",
        "    g.map(plt.hist, i, bins=5, ec=\"k\")\n",
        "    g.set_xticklabels(rotation=90, color='black')\n",
        "    g.set_yticklabels(color='black')\n",
        "    g.set_xlabels(size=15, color = 'black')\n",
        "    g.set_titles(size=15, color = '#FFC300', fontweight=\"bold\")\n",
        "    g.fig.set_figheight(5)"
      ],
      "metadata": {
        "colab": {
          "base_uri": "https://localhost:8080/",
          "height": 1000
        },
        "id": "pVZ_0vMZHk-9",
        "outputId": "6b56ee4b-c93d-4c16-ce83-fc04ae42ac02"
      },
      "execution_count": 67,
      "outputs": [
        {
          "output_type": "display_data",
          "data": {
            "text/plain": [
              "<Figure size 648x360 with 3 Axes>"
            ],
            "image/png": "[encoded data removed]"
          },
          "metadata": {
            "needs_background": "light"
          }
        },
        {
          "output_type": "display_data",
          "data": {
            "text/plain": [
              "<Figure size 648x360 with 3 Axes>"
            ],
            "image/png": "[encoded data removed]"
          },
          "metadata": {
            "needs_background": "light"
          }
        },
        {
          "output_type": "display_data",
          "data": {
            "text/plain": [
              "<Figure size 648x360 with 3 Axes>"
            ],
            "image/png": "[encoded data removed]"
          },
          "metadata": {
            "needs_background": "light"
          }
        },
        {
          "output_type": "display_data",
          "data": {
            "text/plain": [
              "<Figure size 648x360 with 3 Axes>"
            ],
            "image/png": "[encoded data removed]"
          },
          "metadata": {
            "needs_background": "light"
          }
        },
        {
          "output_type": "display_data",
          "data": {
            "text/plain": [
              "<Figure size 648x360 with 3 Axes>"
            ],
            "image/png": "[encoded data removed]"
          },
          "metadata": {
            "needs_background": "light"
          }
        },
        {
          "output_type": "display_data",
          "data": {
            "text/plain": [
              "<Figure size 648x360 with 3 Axes>"
            ],
            "image/png": "[encoded data removed]"
          },
          "metadata": {
            "needs_background": "light"
          }
        },
        {
          "output_type": "display_data",
          "data": {
            "text/plain": [
              "<Figure size 648x360 with 3 Axes>"
            ],
            "image/png": "[encoded data removed]"
          },
          "metadata": {
            "needs_background": "light"
          }
        },
        {
          "output_type": "display_data",
          "data": {
            "text/plain": [
              "<Figure size 648x360 with 3 Axes>"
            ],
            "image/png": "[encoded data removed]"
          },
          "metadata": {
            "needs_background": "light"
          }
        },
        {
          "output_type": "display_data",
          "data": {
            "text/plain": [
              "<Figure size 648x360 with 3 Axes>"
            ],
            "image/png": "[encoded data removed]"
          },
          "metadata": {
            "needs_background": "light"
          }
        },
        {
          "output_type": "display_data",
          "data": {
            "text/plain": [
              "<Figure size 648x360 with 3 Axes>"
            ],
            "image/png": "[encoded data removed]"
          },
          "metadata": {
            "needs_background": "light"
          }
        },
        {
          "output_type": "display_data",
          "data": {
            "text/plain": [
              "<Figure size 648x360 with 3 Axes>"
            ],
            "image/png": "[encoded data removed]"
          },
          "metadata": {
            "needs_background": "light"
          }
        },
        {
          "output_type": "display_data",
          "data": {
            "text/plain": [
              "<Figure size 648x360 with 3 Axes>"
            ],
            "image/png": "[encoded data removed]"
          },
          "metadata": {
            "needs_background": "light"
          }
        },
        {
          "output_type": "display_data",
          "data": {
            "text/plain": [
              "<Figure size 648x360 with 3 Axes>"
            ],
            "image/png": "[encoded data removed]"
          },
          "metadata": {
            "needs_background": "light"
          }
        },
        {
          "output_type": "display_data",
          "data": {
            "text/plain": [
              "<Figure size 648x360 with 3 Axes>"
            ],
            "image/png": "[encoded data removed]"
          },
          "metadata": {
            "needs_background": "light"
          }
        }
      ]
    },
    {
      "cell_type": "code",
      "source": [],
      "metadata": {
        "id": "PQvziOvlKKi-"
      },
      "execution_count": null,
      "outputs": []
    }
  ]
}